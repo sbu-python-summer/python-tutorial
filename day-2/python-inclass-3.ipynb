{
 "cells": [
  {
   "cell_type": "markdown",
   "metadata": {
    "deletable": true,
    "editable": true
   },
   "source": [
    "# Practicing Classes"
   ]
  },
  {
   "cell_type": "code",
   "execution_count": null,
   "metadata": {
    "collapsed": true,
    "deletable": true,
    "editable": true
   },
   "outputs": [],
   "source": [
    "from __future__ import print_function"
   ]
  },
  {
   "cell_type": "markdown",
   "metadata": {
    "deletable": true,
    "editable": true
   },
   "source": [
    "## Vectors Example"
   ]
  },
  {
   "cell_type": "markdown",
   "metadata": {
    "deletable": true,
    "editable": true
   },
   "source": [
    "Our first task will be to write a class to represent 2-d vectors.  Vectors have a direction and a magnitude.  We can represent them as a pair of numbers, representing the x and y lengths.  We'll use a tuple internally for this\n",
    "\n",
    "We want our class to do all the basic operations we do with vectors: add them, multiply by a scalar, cross product, dot product, return the magnitude, etc.\n",
    "\n",
    "We'll use the math module to provide some basic functions we might need (like sqrt)\n",
    "\n",
    "This example will show us how to overload the standard operations in python.  Here's a list of the builtin methods:\n",
    "\n",
    "https://docs.python.org/3/reference/datamodel.html"
   ]
  },
  {
   "cell_type": "code",
   "execution_count": null,
   "metadata": {
    "collapsed": true,
    "deletable": true,
    "editable": true
   },
   "outputs": [],
   "source": [
    "import math"
   ]
  },
  {
   "cell_type": "markdown",
   "metadata": {
    "deletable": true,
    "editable": true
   },
   "source": [
    "To make it really clear what's being called when, I've added prints in each of the functions"
   ]
  },
  {
   "cell_type": "code",
   "execution_count": null,
   "metadata": {
    "collapsed": true,
    "deletable": true,
    "editable": true
   },
   "outputs": [],
   "source": [
    "class Vector(object):\n",
    "    \"\"\" a general two-dimensional vector \"\"\"\n",
    "    \n",
    "    def __init__(self, x, y):\n",
    "        print(\"in __init__\")\n",
    "        self.x = x\n",
    "        self.y = y\n",
    "        \n",
    "    def __str__(self):\n",
    "        print(\"in __str__\")        \n",
    "        return \"({} î + {} ĵ)\".format(self.x, self.y)\n",
    "    \n",
    "    def __repr__(self):\n",
    "        print(\"in __repr__\")        \n",
    "        return \"Vector({}, {})\".format(self.x, self.y)\n",
    "\n",
    "    def __add__(self, other):\n",
    "        print(\"in __add__\")        \n",
    "        if isinstance(other, Vector):\n",
    "            return Vector(self.x + other.x, self.y + other.y)\n",
    "        else:\n",
    "            # it doesn't make sense to add anything but two vectors\n",
    "            print(\"we don't know how to add a {} to a Vector\".format(type(other)))\n",
    "            raise NotImplementedError\n",
    "\n",
    "    def __sub__(self, other):\n",
    "        print(\"in __sub__\")        \n",
    "        if isinstance(other, Vector):\n",
    "            return Vector(self.x - other.x, self.y - other.y)\n",
    "        else:\n",
    "            # it doesn't make sense to add anything but two vectors\n",
    "            print(\"we don't know how to add a {} to a Vector\".format(type(other)))\n",
    "            raise NotImplementedError\n",
    "\n",
    "    def __mul__(self, other):\n",
    "        print(\"in __mul__\")        \n",
    "        if isinstance(other, int) or isinstance(other, float):\n",
    "            # scalar multiplication changes the magnitude\n",
    "            return Vector(other*self.x, other*self.y)\n",
    "        else:\n",
    "            print(\"we don't know how to multiply two Vectors\")\n",
    "            raise NotImplementedError\n",
    "\n",
    "    def __matmul__(self, other):\n",
    "        print(\"in __matmul__\")\n",
    "        # a dot product\n",
    "        if isinstance(other, Vector):\n",
    "            return self.x*other.x + self.y*other.y\n",
    "        else:\n",
    "            print(\"matrix multiplication not defined\")\n",
    "            raise NotImplementedError\n",
    "\n",
    "    def __rmul__(self, other):\n",
    "        print(\"in __rmul__\")        \n",
    "        return self.__mul__(other)\n",
    "\n",
    "    def __truediv__(self, other):\n",
    "        print(\"in __truediv__\")        \n",
    "        # we only know how to multiply by a scalar\n",
    "        if isinstance(other, int) or isinstance(other, float):\n",
    "            return Vector(self.x/other, self.y/other)\n",
    "\n",
    "    def __abs__(self):\n",
    "        print(\"in __abs__\")        \n",
    "        return math.sqrt(self.x**2 + self.y**2)\n",
    "\n",
    "    def __neg__(self):\n",
    "        print(\"in __neg__\")        \n",
    "        return Vector(-self.x, -self.y)\n",
    "\n",
    "    def cross(self, other):\n",
    "        # a vector cross product -- we return the magnitude, since it will\n",
    "        # be in the z-direction, but we are only 2-d \n",
    "        return abs(self.x*other.y - self.y*other.x)"
   ]
  },
  {
   "cell_type": "markdown",
   "metadata": {
    "deletable": true,
    "editable": true
   },
   "source": [
    "This is a basic class that provides two methods `__str__` and `__repr__` to show a representation of it.  There was some discussion of this on slack.  These two functions provide a readable version of our object.\n",
    "\n",
    "The convection is what `__str__` is human readable while `__repr__` should be a form that can be used to recreate the object (e.g., via `eval()`).  See:\n",
    "\n",
    "http://stackoverflow.com/questions/1436703/difference-between-str-and-repr-in-python"
   ]
  },
  {
   "cell_type": "code",
   "execution_count": null,
   "metadata": {
    "collapsed": false,
    "deletable": true,
    "editable": true
   },
   "outputs": [],
   "source": [
    "v = Vector(1,2)\n",
    "v"
   ]
  },
  {
   "cell_type": "code",
   "execution_count": null,
   "metadata": {
    "collapsed": false,
    "deletable": true,
    "editable": true
   },
   "outputs": [],
   "source": [
    "print(v)"
   ]
  },
  {
   "cell_type": "markdown",
   "metadata": {
    "deletable": true,
    "editable": true
   },
   "source": [
    "Vectors have a length, and we'll use the `abs()` builtin to provide the magnitude.  For a vector:\n",
    "$$\n",
    "\\vec{v} = \\alpha \\hat{i} + \\beta \\hat{j}\n",
    "$$\n",
    "we have\n",
    "$$\n",
    "|\\vec{v}| = \\sqrt{\\alpha^2 + \\beta^2}\n",
    "$$"
   ]
  },
  {
   "cell_type": "code",
   "execution_count": null,
   "metadata": {
    "collapsed": false,
    "deletable": true,
    "editable": true
   },
   "outputs": [],
   "source": [
    "abs(v)"
   ]
  },
  {
   "cell_type": "markdown",
   "metadata": {
    "deletable": true,
    "editable": true
   },
   "source": [
    "Let's look at mathematical operations on vectors now.  We want to be able to add and subtract two vectors as well as multiply and divide by a scalar."
   ]
  },
  {
   "cell_type": "code",
   "execution_count": null,
   "metadata": {
    "collapsed": false,
    "deletable": true,
    "editable": true
   },
   "outputs": [],
   "source": [
    "u = Vector(3,5)"
   ]
  },
  {
   "cell_type": "code",
   "execution_count": null,
   "metadata": {
    "collapsed": false,
    "deletable": true,
    "editable": true
   },
   "outputs": [],
   "source": [
    "w = u + v\n",
    "print(w)"
   ]
  },
  {
   "cell_type": "code",
   "execution_count": null,
   "metadata": {
    "collapsed": false,
    "deletable": true,
    "editable": true
   },
   "outputs": [],
   "source": [
    "u - v"
   ]
  },
  {
   "cell_type": "markdown",
   "metadata": {
    "deletable": true,
    "editable": true
   },
   "source": [
    "But what if we have 2 vectors and we try to add them?"
   ]
  },
  {
   "cell_type": "markdown",
   "metadata": {
    "deletable": true,
    "editable": true
   },
   "source": [
    "It doesn't make sense to add a scalar to a vector, so we didn't implement this -- what happens?"
   ]
  },
  {
   "cell_type": "code",
   "execution_count": null,
   "metadata": {
    "collapsed": false,
    "deletable": true,
    "editable": true
   },
   "outputs": [],
   "source": [
    "u + 2.0"
   ]
  },
  {
   "cell_type": "markdown",
   "metadata": {
    "deletable": true,
    "editable": true
   },
   "source": [
    "Now multiplication.  It makes sense to multiply by a scalar, but there are multiple ways to define multiplication of two vectors.  \n",
    "\n",
    "Note that python provides both a `__mul__` and a `__rmul__` function to define what happens when we multiply a vector by a quantity and what happens when we multiply something else by a vector."
   ]
  },
  {
   "cell_type": "code",
   "execution_count": null,
   "metadata": {
    "collapsed": false,
    "deletable": true,
    "editable": true
   },
   "outputs": [],
   "source": [
    "u*2.0"
   ]
  },
  {
   "cell_type": "code",
   "execution_count": null,
   "metadata": {
    "collapsed": false,
    "deletable": true,
    "editable": true
   },
   "outputs": [],
   "source": [
    "2.0*u"
   ]
  },
  {
   "cell_type": "markdown",
   "metadata": {
    "deletable": true,
    "editable": true
   },
   "source": [
    "and division: `__truediv__` is the python 3 way of division `/`, while `__floordiv__` is the old python 2 way, also enabled via `//`.\n",
    "\n",
    "Dividing a scalar by a vector doesn't make sense:"
   ]
  },
  {
   "cell_type": "code",
   "execution_count": null,
   "metadata": {
    "collapsed": false,
    "deletable": true,
    "editable": true
   },
   "outputs": [],
   "source": [
    "u/5.0"
   ]
  },
  {
   "cell_type": "code",
   "execution_count": null,
   "metadata": {
    "collapsed": false,
    "deletable": true,
    "editable": true
   },
   "outputs": [],
   "source": [
    "5.0/u"
   ]
  },
  {
   "cell_type": "markdown",
   "metadata": {
    "deletable": true,
    "editable": true
   },
   "source": [
    "Python 3.5 introduced a new matrix multiplication operator, `@` -- we'll use this to implement a dot product between two vectors:"
   ]
  },
  {
   "cell_type": "code",
   "execution_count": null,
   "metadata": {
    "collapsed": false,
    "deletable": true,
    "editable": true
   },
   "outputs": [],
   "source": [
    "u @ v"
   ]
  },
  {
   "cell_type": "markdown",
   "metadata": {
    "deletable": true,
    "editable": true
   },
   "source": [
    "For a cross product, we don't have an obvious operator, so we'll use a function.  For 2-d vectors, this will result in a scalar"
   ]
  },
  {
   "cell_type": "code",
   "execution_count": null,
   "metadata": {
    "collapsed": false,
    "deletable": true,
    "editable": true
   },
   "outputs": [],
   "source": [
    "u.cross(v)"
   ]
  },
  {
   "cell_type": "markdown",
   "metadata": {
    "deletable": true,
    "editable": true
   },
   "source": [
    "Finally, negation is a separate operation:"
   ]
  },
  {
   "cell_type": "code",
   "execution_count": null,
   "metadata": {
    "collapsed": false,
    "deletable": true,
    "editable": true
   },
   "outputs": [],
   "source": [
    "-u"
   ]
  },
  {
   "cell_type": "markdown",
   "metadata": {
    "deletable": true,
    "editable": true
   },
   "source": [
    "## Naming conventions"
   ]
  },
  {
   "cell_type": "markdown",
   "metadata": {
    "deletable": true,
    "editable": true
   },
   "source": [
    "The python community has some naming convections, defined in PEP-8:\n",
    "\n",
    "https://www.python.org/dev/peps/pep-0008/\n",
    "\n",
    "The widely adopted ones are:\n",
    "\n",
    "* class names start with an uppercase, and use \"camelcase\" for multiword names, e.g. `ShoppingCart`\n",
    "\n",
    "* varible names (including objects which are instances of a class) are lowercase and use underscores to separate words, e.g., `shopping_cart`\n",
    "\n",
    "* module names should be lowercase with underscores\n",
    "\n"
   ]
  },
  {
   "cell_type": "markdown",
   "metadata": {
    "deletable": true,
    "editable": true
   },
   "source": [
    "## Modules"
   ]
  },
  {
   "cell_type": "markdown",
   "metadata": {
    "deletable": true,
    "editable": true
   },
   "source": [
    "This class is useful to other codes, not just this notebook.  This is where modules come in -- we can put all of this code into a `.py` file and then import it to use its functionality.  Here, it is called `vector2d.py`:"
   ]
  },
  {
   "cell_type": "code",
   "execution_count": null,
   "metadata": {
    "collapsed": true,
    "deletable": true,
    "editable": true
   },
   "outputs": [],
   "source": [
    "import vector2d"
   ]
  },
  {
   "cell_type": "code",
   "execution_count": null,
   "metadata": {
    "collapsed": true,
    "deletable": true,
    "editable": true
   },
   "outputs": [],
   "source": [
    "u = vector2d.Vector(1,2)"
   ]
  },
  {
   "cell_type": "code",
   "execution_count": null,
   "metadata": {
    "collapsed": false,
    "deletable": true,
    "editable": true
   },
   "outputs": [],
   "source": [
    "u"
   ]
  },
  {
   "cell_type": "markdown",
   "metadata": {
    "deletable": true,
    "editable": true
   },
   "source": [
    "This module has a special section, starting with:\n",
    "\n",
    "```\n",
    "if __name__ == \"__main__\":\n",
    "```\n",
    "\n",
    "This tests whether we are executing the code directly, e.g., as `python3 vector2d.py` instead of importing it.  This allows us to put some tests, demonstrations, etc. directly in the module."
   ]
  },
  {
   "cell_type": "markdown",
   "metadata": {
    "deletable": true,
    "editable": true
   },
   "source": [
    "## Exercise 1: Shopping Cart"
   ]
  },
  {
   "cell_type": "markdown",
   "metadata": {
    "deletable": true,
    "editable": true
   },
   "source": [
    "Let's write a simple shopping cart class -- this will hold items that you intend to purchase as well as the amount, etc.  And allow you to add / remove items, get a subtotal, etc.\n",
    "\n",
    "We'll use two classes: `Item` will be a single item and `ShoppingCart` will be the collection of items you wish to purchase.\n",
    "\n",
    "First, our store needs an inventory -- here's what we have for sale:"
   ]
  },
  {
   "cell_type": "code",
   "execution_count": null,
   "metadata": {
    "collapsed": false,
    "deletable": true,
    "editable": true
   },
   "outputs": [],
   "source": [
    "INVENTORY_TEXT = \"\"\"\n",
    "apple, 0.60\n",
    "banana, 0.20\n",
    "grapefruit, 0.75\n",
    "grapes, 1.99\n",
    "kiwi, 0.50\n",
    "lemon, 0.20\n",
    "lime, 0.25\n",
    "mango, 1.50\n",
    "papaya, 2.95\n",
    "pineapple, 3.50\n",
    "blueberries, 1.99\n",
    "blackberries, 2.50\n",
    "peach, 0.50\n",
    "plum, 0.33\n",
    "clementine, 0.25\n",
    "cantaloupe, 3.25\n",
    "pear, 1.25\n",
    "quince, 0.45\n",
    "orange, 0.60\n",
    "\"\"\"\n",
    "\n",
    "# this will be a global -- convention is all caps\n",
    "INVENTORY = {}\n",
    "for line in INVENTORY_TEXT.splitlines():\n",
    "    if line.strip() == \"\":\n",
    "        continue\n",
    "    item, price = line.split(\",\")\n",
    "    INVENTORY[item] = float(price)\n"
   ]
  },
  {
   "cell_type": "code",
   "execution_count": null,
   "metadata": {
    "collapsed": false,
    "deletable": true,
    "editable": true
   },
   "outputs": [],
   "source": [
    "INVENTORY"
   ]
  },
  {
   "cell_type": "markdown",
   "metadata": {
    "deletable": true,
    "editable": true
   },
   "source": [
    "### `Item` "
   ]
  },
  {
   "cell_type": "markdown",
   "metadata": {
    "deletable": true,
    "editable": true
   },
   "source": [
    "Here's the start of an item class -- we want it to hold the name and quantity.  \n",
    "\n",
    "You should have the following features:\n",
    "\n",
    "* the name should be something in our inventory\n",
    "\n",
    "* Our shopping cart will include a list of all the items we want to buy, so we want to be able to check for duplicates.  Implement the equal test, `==`, using `__eq__`\n",
    "\n",
    "* we'll want to consolidate dupes, so implement the `+` operator, using `__add__` so we can add items together in our shopping cart.  Note, add should raise a ValueError if you try to add two `Items` that don't have the same name.\n",
    "\n",
    "Here's a start:"
   ]
  },
  {
   "cell_type": "code",
   "execution_count": null,
   "metadata": {
    "collapsed": false,
    "deletable": true,
    "editable": true
   },
   "outputs": [],
   "source": [
    "class Item(object):\n",
    "    \"\"\" an item to buy \"\"\"\n",
    "    \n",
    "    def __init__(self, name, quantity=1):\n",
    "        if name not in INVENTORY:\n",
    "            raise ValueError\n",
    "        self.name = name\n",
    "        self.quantity = quantity\n",
    "        \n",
    "    def __repr__(self):\n",
    "        pass\n",
    "        \n",
    "    def __eq__(self, other):\n",
    "        pass\n",
    "    \n",
    "    def __add__(self, other):\n",
    "        pass"
   ]
  },
  {
   "cell_type": "markdown",
   "metadata": {
    "deletable": true,
    "editable": true
   },
   "source": [
    "Here are some tests your code should pass:"
   ]
  },
  {
   "cell_type": "code",
   "execution_count": null,
   "metadata": {
    "collapsed": true,
    "deletable": true,
    "editable": true
   },
   "outputs": [],
   "source": [
    "a = Item(\"apple\", 10)\n",
    "b = Item(\"banana\", 20)"
   ]
  },
  {
   "cell_type": "code",
   "execution_count": null,
   "metadata": {
    "collapsed": false,
    "deletable": true,
    "editable": true
   },
   "outputs": [],
   "source": [
    "c = Item(\"apple\", 20)"
   ]
  },
  {
   "cell_type": "code",
   "execution_count": null,
   "metadata": {
    "collapsed": false,
    "deletable": true,
    "editable": true,
    "scrolled": true
   },
   "outputs": [],
   "source": [
    "# won't work\n",
    "a + b"
   ]
  },
  {
   "cell_type": "code",
   "execution_count": null,
   "metadata": {
    "collapsed": true,
    "deletable": true,
    "editable": true
   },
   "outputs": [],
   "source": [
    "# will work\n",
    "a += c"
   ]
  },
  {
   "cell_type": "code",
   "execution_count": null,
   "metadata": {
    "collapsed": false,
    "deletable": true,
    "editable": true
   },
   "outputs": [],
   "source": [
    "a"
   ]
  },
  {
   "cell_type": "code",
   "execution_count": null,
   "metadata": {
    "collapsed": false,
    "deletable": true,
    "editable": true
   },
   "outputs": [],
   "source": [
    "a == b"
   ]
  },
  {
   "cell_type": "code",
   "execution_count": null,
   "metadata": {
    "collapsed": false,
    "deletable": true,
    "editable": true
   },
   "outputs": [],
   "source": [
    "a == c"
   ]
  },
  {
   "cell_type": "markdown",
   "metadata": {
    "deletable": true,
    "editable": true
   },
   "source": [
    "How do they behave in a list?"
   ]
  },
  {
   "cell_type": "code",
   "execution_count": null,
   "metadata": {
    "collapsed": false,
    "deletable": true,
    "editable": true
   },
   "outputs": [],
   "source": [
    "items = []\n",
    "items.append(a)\n",
    "items.append(b)\n",
    "items"
   ]
  },
  {
   "cell_type": "code",
   "execution_count": null,
   "metadata": {
    "collapsed": false,
    "deletable": true,
    "editable": true
   },
   "outputs": [],
   "source": [
    "c in items"
   ]
  },
  {
   "cell_type": "markdown",
   "metadata": {
    "deletable": true,
    "editable": true
   },
   "source": [
    "### `ShoppingCart`"
   ]
  },
  {
   "cell_type": "markdown",
   "metadata": {
    "deletable": true,
    "editable": true
   },
   "source": [
    "Now we want to create a shopping cart.  The main thing it will do is hold a list of items."
   ]
  },
  {
   "cell_type": "code",
   "execution_count": null,
   "metadata": {
    "collapsed": true,
    "deletable": true,
    "editable": true
   },
   "outputs": [],
   "source": [
    "class ShoppingCart(object):\n",
    "    \n",
    "    def __init__(self):\n",
    "        self.items = []\n",
    "        \n",
    "    def subtotal(self):\n",
    "        \"\"\" return a subtotal of our items \"\"\"\n",
    "        pass\n",
    "\n",
    "    def add(self, name, quantity):\n",
    "        \"\"\" add an item to our cart \"\"\"\n",
    "        pass\n",
    "        \n",
    "    def remove(self, name):\n",
    "        \"\"\" remove all of item name from the cart \"\"\"\n",
    "        pass\n",
    "        \n",
    "    def report(self):\n",
    "        \"\"\" print a summary of the cart \"\"\"\n",
    "        pass"
   ]
  },
  {
   "cell_type": "markdown",
   "metadata": {
    "deletable": true,
    "editable": true
   },
   "source": [
    "Here are some tests"
   ]
  },
  {
   "cell_type": "code",
   "execution_count": null,
   "metadata": {
    "collapsed": true,
    "deletable": true,
    "editable": true
   },
   "outputs": [],
   "source": [
    "sc = ShoppingCart()\n",
    "sc.add(\"orange\", 19)"
   ]
  },
  {
   "cell_type": "code",
   "execution_count": null,
   "metadata": {
    "collapsed": true,
    "deletable": true,
    "editable": true
   },
   "outputs": [],
   "source": [
    "sc.add(\"apple\", 2)"
   ]
  },
  {
   "cell_type": "code",
   "execution_count": null,
   "metadata": {
    "collapsed": false,
    "deletable": true,
    "editable": true
   },
   "outputs": [],
   "source": [
    "sc.report()"
   ]
  },
  {
   "cell_type": "code",
   "execution_count": null,
   "metadata": {
    "collapsed": true,
    "deletable": true,
    "editable": true
   },
   "outputs": [],
   "source": [
    "sc.add(\"apple\", 9)"
   ]
  },
  {
   "cell_type": "code",
   "execution_count": null,
   "metadata": {
    "collapsed": false,
    "deletable": true,
    "editable": true
   },
   "outputs": [],
   "source": [
    "sc.report()"
   ]
  },
  {
   "cell_type": "code",
   "execution_count": null,
   "metadata": {
    "collapsed": false,
    "deletable": true,
    "editable": true
   },
   "outputs": [],
   "source": [
    "sc.subtotal()"
   ]
  },
  {
   "cell_type": "code",
   "execution_count": null,
   "metadata": {
    "collapsed": false,
    "deletable": true,
    "editable": true
   },
   "outputs": [],
   "source": [
    "sc.remove(\"apple\")"
   ]
  },
  {
   "cell_type": "code",
   "execution_count": null,
   "metadata": {
    "collapsed": false,
    "deletable": true,
    "editable": true
   },
   "outputs": [],
   "source": [
    "sc.report()"
   ]
  },
  {
   "cell_type": "markdown",
   "metadata": {
    "collapsed": true,
    "deletable": true,
    "editable": true
   },
   "source": [
    "## Exercise 2: Poker Odds"
   ]
  },
  {
   "cell_type": "markdown",
   "metadata": {},
   "source": [
    "Use the deck of cards class from the notebook we worked through outside of class to write a _Monte Carlo_ code that plays a lot of hands of straight poker (like 100,000).  Count how many of these hands has a particular poker hand (like 3-of-a-kind).  The ratio of # of hands with 3-of-a-kind to total hands is an approximation to the odds of getting a 3-of-a-kind in poker.\n",
    "\n",
    "You'll want to copy-paste those classes into a `.py` file to allow you to import and reuse them here"
   ]
  },
  {
   "cell_type": "code",
   "execution_count": null,
   "metadata": {
    "collapsed": true
   },
   "outputs": [],
   "source": []
  },
  {
   "cell_type": "markdown",
   "metadata": {},
   "source": [
    "## Exercise 3: Tic-Tac-Toe\n",
    "\n",
    "Revisit the tic-tac-toe game you developed in the functions exercises but now write it as a class with methods to do each of the main steps.  "
   ]
  },
  {
   "cell_type": "code",
   "execution_count": null,
   "metadata": {
    "collapsed": true
   },
   "outputs": [],
   "source": []
  }
 ],
 "metadata": {
  "kernelspec": {
   "display_name": "Python 3",
   "language": "python",
   "name": "python3"
  },
  "language_info": {
   "codemirror_mode": {
    "name": "ipython",
    "version": 3
   },
   "file_extension": ".py",
   "mimetype": "text/x-python",
   "name": "python",
   "nbconvert_exporter": "python",
   "pygments_lexer": "ipython3",
   "version": "3.5.2"
  }
 },
 "nbformat": 4,
 "nbformat_minor": 2
}
