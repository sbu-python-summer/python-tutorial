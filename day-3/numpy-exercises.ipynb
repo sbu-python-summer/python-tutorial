{
 "cells": [
  {
   "cell_type": "markdown",
   "metadata": {},
   "source": [
    "# NumPy exercises"
   ]
  },
  {
   "cell_type": "markdown",
   "metadata": {},
   "source": [
    "Some  of these come from / are inspired from https://github.com/rougier/numpy-100  \n",
    "\n",
    "You might want to look over that list as well."
   ]
  },
  {
   "cell_type": "code",
   "execution_count": 1,
   "metadata": {
    "collapsed": true
   },
   "outputs": [],
   "source": [
    "import numpy as np"
   ]
  },
  {
   "cell_type": "markdown",
   "metadata": {},
   "source": [
    "## Q1\n",
    "\n",
    "We can use `np.random.random_sample()` to create an array with random values.  By default, these will be in the range `[0.0, 1.0)`.  You can\n",
    "multiple the output and add a scalar to it to get it to be in a different range.\n",
    "\n",
    "Create a 10 x 10 array initialized with random numbers that lie between 0 and 10.\n",
    "\n",
    "Then compute the average of the array (there is a numpy function for this, `np.mean()`."
   ]
  },
  {
   "cell_type": "code",
   "execution_count": null,
   "metadata": {
    "collapsed": true
   },
   "outputs": [],
   "source": []
  },
  {
   "cell_type": "markdown",
   "metadata": {},
   "source": [
    "## Q2\n",
    "\n",
    "Create a 2d array with `1` on the border and `0` on the inside, e.g., like:\n",
    "```\n",
    "1 1 1 1 1\n",
    "1 0 0 0 1\n",
    "1 0 0 0 1\n",
    "1 1 1 1 1\n",
    "```\n",
    "\n",
    "Do this using array slice notation to let it work for an arbitrary-sized array"
   ]
  },
  {
   "cell_type": "code",
   "execution_count": null,
   "metadata": {
    "collapsed": true
   },
   "outputs": [],
   "source": []
  },
  {
   "cell_type": "markdown",
   "metadata": {},
   "source": [
    "## Q3\n",
    "\n",
    "Here we will read in columns of numbers from a file and create a histogram, using NumPy routines.  Make sure you have the data file\n",
    "\"`sample.txt`\" in the same directory as this notebook (you can download it from  https://raw.githubusercontent.com/sbu-python-summer/python-tutorial/master/day-3/sample.txt\n",
    "\n",
    "  * Use `np.loadtxt()` to read this file in.  \n",
    "\n",
    "  * Next, use `np.histogram()` to create a histogram array.  The output returns both the count and an array of edges.\n",
    "  \n",
    "  * Finally, loop over the bins and print out the bin center (averaging the left and right edges of the bin) and the count for that bin."
   ]
  },
  {
   "cell_type": "code",
   "execution_count": null,
   "metadata": {
    "collapsed": true
   },
   "outputs": [],
   "source": []
  },
  {
   "cell_type": "markdown",
   "metadata": {},
   "source": [
    "# Q4\n",
    "\n",
    "NumPy has a standard deviation function, `np.std()`, but here we'll write our own that works on a 1-d array (vector).  The standard\n",
    "deviation is a measure of the \"width\" of the distribution of numbers\n",
    "in the vector.\n",
    "\n",
    "Given an array, $a$, and an average $\\bar{a}$, the standard deviation\n",
    "is:\n",
    "$$\n",
    "\\sigma = \\left [ \\frac{1}{N} \\sum_{i=1}^N (a_i - \\bar{a})^2 \\right ]^{1/2}\n",
    "$$\n",
    "\n",
    "Write a function to calculate the standard deviation for an input array, `a`:\n",
    "\n",
    "  * First compute the average of the elements in `a` to define $\\bar{a}$\n",
    "  * Next compute the sum over $a - \\bar{a}$\n",
    "  * Finally take the square root (you can use `np.sqrt()`)\n",
    "  \n",
    "Test your function on a random array, and compare to the built-in `np.std()`"
   ]
  },
  {
   "cell_type": "code",
   "execution_count": null,
   "metadata": {
    "collapsed": false
   },
   "outputs": [],
   "source": []
  }
 ],
 "metadata": {
  "kernelspec": {
   "display_name": "Python 3",
   "language": "python",
   "name": "python3"
  },
  "language_info": {
   "codemirror_mode": {
    "name": "ipython",
    "version": 3
   },
   "file_extension": ".py",
   "mimetype": "text/x-python",
   "name": "python",
   "nbconvert_exporter": "python",
   "pygments_lexer": "ipython3",
   "version": "3.5.3"
  }
 },
 "nbformat": 4,
 "nbformat_minor": 2
}
