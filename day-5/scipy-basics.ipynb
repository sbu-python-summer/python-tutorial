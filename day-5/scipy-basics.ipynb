{
 "cells": [
  {
   "cell_type": "code",
   "execution_count": 1,
   "metadata": {
    "collapsed": false,
    "deletable": true,
    "editable": true
   },
   "outputs": [],
   "source": [
    "%matplotlib inline"
   ]
  },
  {
   "cell_type": "code",
   "execution_count": 2,
   "metadata": {
    "collapsed": false,
    "deletable": true,
    "editable": true
   },
   "outputs": [],
   "source": [
    "import numpy as np\n",
    "import matplotlib.pyplot as plt"
   ]
  },
  {
   "cell_type": "markdown",
   "metadata": {
    "deletable": true,
    "editable": true
   },
   "source": [
    "# SciPy\n",
    "\n",
    "SciPy is a collection of numerical algorithms with python interfaces.  In many cases, these interfaces are wrappers around standard numerical libraries that have been developed in the community and are used with other languages.  Usually detailed references are available to explain the implementation.\n",
    "\n",
    "There are many subpackages:\n",
    "\n",
    "![](scipy.png)\n",
    "\n",
    "generally, you load the subpackages separately, e.g.\n",
    "\n",
    "```\n",
    "from scipy import linalg, optimize\n",
    "```\n",
    "then you have access to the methods in those namespaces\n"
   ]
  },
  {
   "cell_type": "markdown",
   "metadata": {
    "deletable": true,
    "editable": true
   },
   "source": [
    "# Numerical Methods \n",
    "\n",
    "One thing to keep in mind -- all numerical methods have strengths and weaknesses, and make assumptions.  You should always do some research into the method to understand what it is doing.\n",
    "\n",
    "It is also always a good idea to run a new method on some test where you know the answer, to make sure it is behaving as expected."
   ]
  },
  {
   "cell_type": "markdown",
   "metadata": {
    "deletable": true,
    "editable": true
   },
   "source": [
    "# Integration"
   ]
  },
  {
   "cell_type": "markdown",
   "metadata": {
    "deletable": true,
    "editable": true
   },
   "source": [
    "we'll do some integrals of the form\n",
    "\n",
    "$$I = \\int_a^b f(x) dx$$\n",
    "\n",
    "We can imagine two situations:\n",
    "* our function $f(x)$ is given by an analytic expression.  This gives us the freedom to pick our integration points, and in general can allow us to optimize our result and get high accuracy\n",
    "* our function $f(x)$ is defined on at a set of (possibly regular spaced) points.  \n",
    "\n",
    "In numerical analysis, the term _quadrature_ is used to describe any integration method that represents the integral as the weighted sum of a discrete number of points."
   ]
  },
  {
   "cell_type": "code",
   "execution_count": 3,
   "metadata": {
    "collapsed": false,
    "deletable": true,
    "editable": true
   },
   "outputs": [
    {
     "name": "stdout",
     "output_type": "stream",
     "text": [
      "Help on package scipy.integrate in scipy:\n",
      "\n",
      "NAME\n",
      "    scipy.integrate\n",
      "\n",
      "DESCRIPTION\n",
      "    =============================================\n",
      "    Integration and ODEs (:mod:`scipy.integrate`)\n",
      "    =============================================\n",
      "    \n",
      "    .. currentmodule:: scipy.integrate\n",
      "    \n",
      "    Integrating functions, given function object\n",
      "    ============================================\n",
      "    \n",
      "    .. autosummary::\n",
      "       :toctree: generated/\n",
      "    \n",
      "       quad          -- General purpose integration\n",
      "       dblquad       -- General purpose double integration\n",
      "       tplquad       -- General purpose triple integration\n",
      "       nquad         -- General purpose n-dimensional integration\n",
      "       fixed_quad    -- Integrate func(x) using Gaussian quadrature of order n\n",
      "       quadrature    -- Integrate with given tolerance using Gaussian quadrature\n",
      "       romberg       -- Integrate func using Romberg integration\n",
      "       quad_explain  -- Print information for use of quad\n",
      "       newton_cotes  -- Weights and error coefficient for Newton-Cotes integration\n",
      "       IntegrationWarning -- Warning on issues during integration\n",
      "    \n",
      "    Integrating functions, given fixed samples\n",
      "    ==========================================\n",
      "    \n",
      "    .. autosummary::\n",
      "       :toctree: generated/\n",
      "    \n",
      "       trapz         -- Use trapezoidal rule to compute integral.\n",
      "       cumtrapz      -- Use trapezoidal rule to cumulatively compute integral.\n",
      "       simps         -- Use Simpson's rule to compute integral from samples.\n",
      "       romb          -- Use Romberg Integration to compute integral from\n",
      "                     -- (2**k + 1) evenly-spaced samples.\n",
      "    \n",
      "    .. seealso::\n",
      "    \n",
      "       :mod:`scipy.special` for orthogonal polynomials (special) for Gaussian\n",
      "       quadrature roots and weights for other weighting factors and regions.\n",
      "    \n",
      "    Integrators of ODE systems\n",
      "    ==========================\n",
      "    \n",
      "    .. autosummary::\n",
      "       :toctree: generated/\n",
      "    \n",
      "       odeint        -- General integration of ordinary differential equations.\n",
      "       ode           -- Integrate ODE using VODE and ZVODE routines.\n",
      "       complex_ode   -- Convert a complex-valued ODE to real-valued and integrate.\n",
      "       solve_bvp     -- Solve a boundary value problem for a system of ODEs.\n",
      "\n",
      "PACKAGE CONTENTS\n",
      "    _bvp\n",
      "    _dop\n",
      "    _ode\n",
      "    _odepack\n",
      "    _quadpack\n",
      "    _test_multivariate\n",
      "    _test_odeint_banded\n",
      "    lsoda\n",
      "    odepack\n",
      "    quadpack\n",
      "    quadrature\n",
      "    setup\n",
      "    vode\n",
      "\n",
      "CLASSES\n",
      "    builtins.UserWarning(builtins.Warning)\n",
      "        scipy.integrate.quadpack.IntegrationWarning\n",
      "    builtins.object\n",
      "        scipy.integrate._ode.ode\n",
      "            scipy.integrate._ode.complex_ode\n",
      "    \n",
      "    class IntegrationWarning(builtins.UserWarning)\n",
      "     |  Warning on issues during integration.\n",
      "     |  \n",
      "     |  Method resolution order:\n",
      "     |      IntegrationWarning\n",
      "     |      builtins.UserWarning\n",
      "     |      builtins.Warning\n",
      "     |      builtins.Exception\n",
      "     |      builtins.BaseException\n",
      "     |      builtins.object\n",
      "     |  \n",
      "     |  Data descriptors defined here:\n",
      "     |  \n",
      "     |  __weakref__\n",
      "     |      list of weak references to the object (if defined)\n",
      "     |  \n",
      "     |  ----------------------------------------------------------------------\n",
      "     |  Methods inherited from builtins.UserWarning:\n",
      "     |  \n",
      "     |  __init__(self, /, *args, **kwargs)\n",
      "     |      Initialize self.  See help(type(self)) for accurate signature.\n",
      "     |  \n",
      "     |  __new__(*args, **kwargs) from builtins.type\n",
      "     |      Create and return a new object.  See help(type) for accurate signature.\n",
      "     |  \n",
      "     |  ----------------------------------------------------------------------\n",
      "     |  Methods inherited from builtins.BaseException:\n",
      "     |  \n",
      "     |  __delattr__(self, name, /)\n",
      "     |      Implement delattr(self, name).\n",
      "     |  \n",
      "     |  __getattribute__(self, name, /)\n",
      "     |      Return getattr(self, name).\n",
      "     |  \n",
      "     |  __reduce__(...)\n",
      "     |      helper for pickle\n",
      "     |  \n",
      "     |  __repr__(self, /)\n",
      "     |      Return repr(self).\n",
      "     |  \n",
      "     |  __setattr__(self, name, value, /)\n",
      "     |      Implement setattr(self, name, value).\n",
      "     |  \n",
      "     |  __setstate__(...)\n",
      "     |  \n",
      "     |  __str__(self, /)\n",
      "     |      Return str(self).\n",
      "     |  \n",
      "     |  with_traceback(...)\n",
      "     |      Exception.with_traceback(tb) --\n",
      "     |      set self.__traceback__ to tb and return self.\n",
      "     |  \n",
      "     |  ----------------------------------------------------------------------\n",
      "     |  Data descriptors inherited from builtins.BaseException:\n",
      "     |  \n",
      "     |  __cause__\n",
      "     |      exception cause\n",
      "     |  \n",
      "     |  __context__\n",
      "     |      exception context\n",
      "     |  \n",
      "     |  __dict__\n",
      "     |  \n",
      "     |  __suppress_context__\n",
      "     |  \n",
      "     |  __traceback__\n",
      "     |  \n",
      "     |  args\n",
      "    \n",
      "    class complex_ode(ode)\n",
      "     |  A wrapper of ode for complex systems.\n",
      "     |  \n",
      "     |  This functions similarly as `ode`, but re-maps a complex-valued\n",
      "     |  equation system to a real-valued one before using the integrators.\n",
      "     |  \n",
      "     |  Parameters\n",
      "     |  ----------\n",
      "     |  f : callable ``f(t, y, *f_args)``\n",
      "     |      Rhs of the equation. t is a scalar, ``y.shape == (n,)``.\n",
      "     |      ``f_args`` is set by calling ``set_f_params(*args)``.\n",
      "     |  jac : callable ``jac(t, y, *jac_args)``\n",
      "     |      Jacobian of the rhs, ``jac[i,j] = d f[i] / d y[j]``.\n",
      "     |      ``jac_args`` is set by calling ``set_f_params(*args)``.\n",
      "     |  \n",
      "     |  Attributes\n",
      "     |  ----------\n",
      "     |  t : float\n",
      "     |      Current time.\n",
      "     |  y : ndarray\n",
      "     |      Current variable values.\n",
      "     |  \n",
      "     |  Examples\n",
      "     |  --------\n",
      "     |  For usage examples, see `ode`.\n",
      "     |  \n",
      "     |  Method resolution order:\n",
      "     |      complex_ode\n",
      "     |      ode\n",
      "     |      builtins.object\n",
      "     |  \n",
      "     |  Methods defined here:\n",
      "     |  \n",
      "     |  __init__(self, f, jac=None)\n",
      "     |      Initialize self.  See help(type(self)) for accurate signature.\n",
      "     |  \n",
      "     |  integrate(self, t, step=0, relax=0)\n",
      "     |      Find y=y(t), set y as an initial condition, and return y.\n",
      "     |  \n",
      "     |  set_initial_value(self, y, t=0.0)\n",
      "     |      Set initial conditions y(t) = y.\n",
      "     |  \n",
      "     |  set_integrator(self, name, **integrator_params)\n",
      "     |      Set integrator by name.\n",
      "     |      \n",
      "     |      Parameters\n",
      "     |      ----------\n",
      "     |      name : str\n",
      "     |          Name of the integrator\n",
      "     |      integrator_params\n",
      "     |          Additional parameters for the integrator.\n",
      "     |  \n",
      "     |  set_solout(self, solout)\n",
      "     |      Set callable to be called at every successful integration step.\n",
      "     |      \n",
      "     |      Parameters\n",
      "     |      ----------\n",
      "     |      solout : callable\n",
      "     |          ``solout(t, y)`` is called at each internal integrator step,\n",
      "     |          t is a scalar providing the current independent position\n",
      "     |          y is the current soloution ``y.shape == (n,)``\n",
      "     |          solout should return -1 to stop integration\n",
      "     |          otherwise it should return None or 0\n",
      "     |  \n",
      "     |  ----------------------------------------------------------------------\n",
      "     |  Data descriptors defined here:\n",
      "     |  \n",
      "     |  y\n",
      "     |  \n",
      "     |  ----------------------------------------------------------------------\n",
      "     |  Methods inherited from ode:\n",
      "     |  \n",
      "     |  set_f_params(self, *args)\n",
      "     |      Set extra parameters for user-supplied function f.\n",
      "     |  \n",
      "     |  set_jac_params(self, *args)\n",
      "     |      Set extra parameters for user-supplied function jac.\n",
      "     |  \n",
      "     |  successful(self)\n",
      "     |      Check if integration was successful.\n",
      "     |  \n",
      "     |  ----------------------------------------------------------------------\n",
      "     |  Data descriptors inherited from ode:\n",
      "     |  \n",
      "     |  __dict__\n",
      "     |      dictionary for instance variables (if defined)\n",
      "     |  \n",
      "     |  __weakref__\n",
      "     |      list of weak references to the object (if defined)\n",
      "    \n",
      "    class ode(builtins.object)\n",
      "     |  A generic interface class to numeric integrators.\n",
      "     |  \n",
      "     |  Solve an equation system :math:`y'(t) = f(t,y)` with (optional) ``jac = df/dy``.\n",
      "     |  \n",
      "     |  *Note*: The first two arguments of ``f(t, y, ...)`` are in the\n",
      "     |  opposite order of the arguments in the system definition function used\n",
      "     |  by `scipy.integrate.odeint`.\n",
      "     |  \n",
      "     |  Parameters\n",
      "     |  ----------\n",
      "     |  f : callable ``f(t, y, *f_args)``\n",
      "     |      Right-hand side of the differential equation. t is a scalar,\n",
      "     |      ``y.shape == (n,)``.\n",
      "     |      ``f_args`` is set by calling ``set_f_params(*args)``.\n",
      "     |      `f` should return a scalar, array or list (not a tuple).\n",
      "     |  jac : callable ``jac(t, y, *jac_args)``, optional\n",
      "     |      Jacobian of the right-hand side, ``jac[i,j] = d f[i] / d y[j]``.\n",
      "     |      ``jac_args`` is set by calling ``set_jac_params(*args)``.\n",
      "     |  \n",
      "     |  Attributes\n",
      "     |  ----------\n",
      "     |  t : float\n",
      "     |      Current time.\n",
      "     |  y : ndarray\n",
      "     |      Current variable values.\n",
      "     |  \n",
      "     |  See also\n",
      "     |  --------\n",
      "     |  odeint : an integrator with a simpler interface based on lsoda from ODEPACK\n",
      "     |  quad : for finding the area under a curve\n",
      "     |  \n",
      "     |  Notes\n",
      "     |  -----\n",
      "     |  Available integrators are listed below. They can be selected using\n",
      "     |  the `set_integrator` method.\n",
      "     |  \n",
      "     |  \"vode\"\n",
      "     |  \n",
      "     |      Real-valued Variable-coefficient Ordinary Differential Equation\n",
      "     |      solver, with fixed-leading-coefficient implementation. It provides\n",
      "     |      implicit Adams method (for non-stiff problems) and a method based on\n",
      "     |      backward differentiation formulas (BDF) (for stiff problems).\n",
      "     |  \n",
      "     |      Source: http://www.netlib.org/ode/vode.f\n",
      "     |  \n",
      "     |      .. warning::\n",
      "     |  \n",
      "     |         This integrator is not re-entrant. You cannot have two `ode`\n",
      "     |         instances using the \"vode\" integrator at the same time.\n",
      "     |  \n",
      "     |      This integrator accepts the following parameters in `set_integrator`\n",
      "     |      method of the `ode` class:\n",
      "     |  \n",
      "     |      - atol : float or sequence\n",
      "     |        absolute tolerance for solution\n",
      "     |      - rtol : float or sequence\n",
      "     |        relative tolerance for solution\n",
      "     |      - lband : None or int\n",
      "     |      - uband : None or int\n",
      "     |        Jacobian band width, jac[i,j] != 0 for i-lband <= j <= i+uband.\n",
      "     |        Setting these requires your jac routine to return the jacobian\n",
      "     |        in packed format, jac_packed[i-j+uband, j] = jac[i,j]. The\n",
      "     |        dimension of the matrix must be (lband+uband+1, len(y)).\n",
      "     |      - method: 'adams' or 'bdf'\n",
      "     |        Which solver to use, Adams (non-stiff) or BDF (stiff)\n",
      "     |      - with_jacobian : bool\n",
      "     |        This option is only considered when the user has not supplied a\n",
      "     |        Jacobian function and has not indicated (by setting either band)\n",
      "     |        that the Jacobian is banded.  In this case, `with_jacobian` specifies\n",
      "     |        whether the iteration method of the ODE solver's correction step is\n",
      "     |        chord iteration with an internally generated full Jacobian or\n",
      "     |        functional iteration with no Jacobian.\n",
      "     |      - nsteps : int\n",
      "     |        Maximum number of (internally defined) steps allowed during one\n",
      "     |        call to the solver.\n",
      "     |      - first_step : float\n",
      "     |      - min_step : float\n",
      "     |      - max_step : float\n",
      "     |        Limits for the step sizes used by the integrator.\n",
      "     |      - order : int\n",
      "     |        Maximum order used by the integrator,\n",
      "     |        order <= 12 for Adams, <= 5 for BDF.\n",
      "     |  \n",
      "     |  \"zvode\"\n",
      "     |  \n",
      "     |      Complex-valued Variable-coefficient Ordinary Differential Equation\n",
      "     |      solver, with fixed-leading-coefficient implementation.  It provides\n",
      "     |      implicit Adams method (for non-stiff problems) and a method based on\n",
      "     |      backward differentiation formulas (BDF) (for stiff problems).\n",
      "     |  \n",
      "     |      Source: http://www.netlib.org/ode/zvode.f\n",
      "     |  \n",
      "     |      .. warning::\n",
      "     |  \n",
      "     |         This integrator is not re-entrant. You cannot have two `ode`\n",
      "     |         instances using the \"zvode\" integrator at the same time.\n",
      "     |  \n",
      "     |      This integrator accepts the same parameters in `set_integrator`\n",
      "     |      as the \"vode\" solver.\n",
      "     |  \n",
      "     |      .. note::\n",
      "     |  \n",
      "     |          When using ZVODE for a stiff system, it should only be used for\n",
      "     |          the case in which the function f is analytic, that is, when each f(i)\n",
      "     |          is an analytic function of each y(j).  Analyticity means that the\n",
      "     |          partial derivative df(i)/dy(j) is a unique complex number, and this\n",
      "     |          fact is critical in the way ZVODE solves the dense or banded linear\n",
      "     |          systems that arise in the stiff case.  For a complex stiff ODE system\n",
      "     |          in which f is not analytic, ZVODE is likely to have convergence\n",
      "     |          failures, and for this problem one should instead use DVODE on the\n",
      "     |          equivalent real system (in the real and imaginary parts of y).\n",
      "     |  \n",
      "     |  \"lsoda\"\n",
      "     |  \n",
      "     |      Real-valued Variable-coefficient Ordinary Differential Equation\n",
      "     |      solver, with fixed-leading-coefficient implementation. It provides\n",
      "     |      automatic method switching between implicit Adams method (for non-stiff\n",
      "     |      problems) and a method based on backward differentiation formulas (BDF)\n",
      "     |      (for stiff problems).\n",
      "     |  \n",
      "     |      Source: http://www.netlib.org/odepack\n",
      "     |  \n",
      "     |      .. warning::\n",
      "     |  \n",
      "     |         This integrator is not re-entrant. You cannot have two `ode`\n",
      "     |         instances using the \"lsoda\" integrator at the same time.\n",
      "     |  \n",
      "     |      This integrator accepts the following parameters in `set_integrator`\n",
      "     |      method of the `ode` class:\n",
      "     |  \n",
      "     |      - atol : float or sequence\n",
      "     |        absolute tolerance for solution\n",
      "     |      - rtol : float or sequence\n",
      "     |        relative tolerance for solution\n",
      "     |      - lband : None or int\n",
      "     |      - uband : None or int\n",
      "     |        Jacobian band width, jac[i,j] != 0 for i-lband <= j <= i+uband.\n",
      "     |        Setting these requires your jac routine to return the jacobian\n",
      "     |        in packed format, jac_packed[i-j+uband, j] = jac[i,j].\n",
      "     |      - with_jacobian : bool\n",
      "     |        *Not used.*\n",
      "     |      - nsteps : int\n",
      "     |        Maximum number of (internally defined) steps allowed during one\n",
      "     |        call to the solver.\n",
      "     |      - first_step : float\n",
      "     |      - min_step : float\n",
      "     |      - max_step : float\n",
      "     |        Limits for the step sizes used by the integrator.\n",
      "     |      - max_order_ns : int\n",
      "     |        Maximum order used in the nonstiff case (default 12).\n",
      "     |      - max_order_s : int\n",
      "     |        Maximum order used in the stiff case (default 5).\n",
      "     |      - max_hnil : int\n",
      "     |        Maximum number of messages reporting too small step size (t + h = t)\n",
      "     |        (default 0)\n",
      "     |      - ixpr : int\n",
      "     |        Whether to generate extra printing at method switches (default False).\n",
      "     |  \n",
      "     |  \"dopri5\"\n",
      "     |  \n",
      "     |      This is an explicit runge-kutta method of order (4)5 due to Dormand &\n",
      "     |      Prince (with stepsize control and dense output).\n",
      "     |  \n",
      "     |      Authors:\n",
      "     |  \n",
      "     |          E. Hairer and G. Wanner\n",
      "     |          Universite de Geneve, Dept. de Mathematiques\n",
      "     |          CH-1211 Geneve 24, Switzerland\n",
      "     |          e-mail:  ernst.hairer@math.unige.ch, gerhard.wanner@math.unige.ch\n",
      "     |  \n",
      "     |      This code is described in [HNW93]_.\n",
      "     |  \n",
      "     |      This integrator accepts the following parameters in set_integrator()\n",
      "     |      method of the ode class:\n",
      "     |  \n",
      "     |      - atol : float or sequence\n",
      "     |        absolute tolerance for solution\n",
      "     |      - rtol : float or sequence\n",
      "     |        relative tolerance for solution\n",
      "     |      - nsteps : int\n",
      "     |        Maximum number of (internally defined) steps allowed during one\n",
      "     |        call to the solver.\n",
      "     |      - first_step : float\n",
      "     |      - max_step : float\n",
      "     |      - safety : float\n",
      "     |        Safety factor on new step selection (default 0.9)\n",
      "     |      - ifactor : float\n",
      "     |      - dfactor : float\n",
      "     |        Maximum factor to increase/decrease step size by in one step\n",
      "     |      - beta : float\n",
      "     |        Beta parameter for stabilised step size control.\n",
      "     |      - verbosity : int\n",
      "     |        Switch for printing messages (< 0 for no messages).\n",
      "     |  \n",
      "     |  \"dop853\"\n",
      "     |  \n",
      "     |      This is an explicit runge-kutta method of order 8(5,3) due to Dormand\n",
      "     |      & Prince (with stepsize control and dense output).\n",
      "     |  \n",
      "     |      Options and references the same as \"dopri5\".\n",
      "     |  \n",
      "     |  Examples\n",
      "     |  --------\n",
      "     |  \n",
      "     |  A problem to integrate and the corresponding jacobian:\n",
      "     |  \n",
      "     |  >>> from scipy.integrate import ode\n",
      "     |  >>>\n",
      "     |  >>> y0, t0 = [1.0j, 2.0], 0\n",
      "     |  >>>\n",
      "     |  >>> def f(t, y, arg1):\n",
      "     |  ...     return [1j*arg1*y[0] + y[1], -arg1*y[1]**2]\n",
      "     |  >>> def jac(t, y, arg1):\n",
      "     |  ...     return [[1j*arg1, 1], [0, -arg1*2*y[1]]]\n",
      "     |  \n",
      "     |  The integration:\n",
      "     |  \n",
      "     |  >>> r = ode(f, jac).set_integrator('zvode', method='bdf')\n",
      "     |  >>> r.set_initial_value(y0, t0).set_f_params(2.0).set_jac_params(2.0)\n",
      "     |  >>> t1 = 10\n",
      "     |  >>> dt = 1\n",
      "     |  >>> while r.successful() and r.t < t1:\n",
      "     |  ...     print(r.t+dt, r.integrate(r.t+dt))\n",
      "     |  (1, array([-0.71038232+0.23749653j,  0.40000271+0.j        ]))\n",
      "     |  (2.0, array([ 0.19098503-0.52359246j,  0.22222356+0.j        ]))\n",
      "     |  (3.0, array([ 0.47153208+0.52701229j,  0.15384681+0.j        ]))\n",
      "     |  (4.0, array([-0.61905937+0.30726255j,  0.11764744+0.j        ]))\n",
      "     |  (5.0, array([ 0.02340997-0.61418799j,  0.09523835+0.j        ]))\n",
      "     |  (6.0, array([ 0.58643071+0.339819j,  0.08000018+0.j      ]))\n",
      "     |  (7.0, array([-0.52070105+0.44525141j,  0.06896565+0.j        ]))\n",
      "     |  (8.0, array([-0.15986733-0.61234476j,  0.06060616+0.j        ]))\n",
      "     |  (9.0, array([ 0.64850462+0.15048982j,  0.05405414+0.j        ]))\n",
      "     |  (10.0, array([-0.38404699+0.56382299j,  0.04878055+0.j        ]))\n",
      "     |  \n",
      "     |  References\n",
      "     |  ----------\n",
      "     |  .. [HNW93] E. Hairer, S.P. Norsett and G. Wanner, Solving Ordinary\n",
      "     |      Differential Equations i. Nonstiff Problems. 2nd edition.\n",
      "     |      Springer Series in Computational Mathematics,\n",
      "     |      Springer-Verlag (1993)\n",
      "     |  \n",
      "     |  Methods defined here:\n",
      "     |  \n",
      "     |  __init__(self, f, jac=None)\n",
      "     |      Initialize self.  See help(type(self)) for accurate signature.\n",
      "     |  \n",
      "     |  integrate(self, t, step=0, relax=0)\n",
      "     |      Find y=y(t), set y as an initial condition, and return y.\n",
      "     |  \n",
      "     |  set_f_params(self, *args)\n",
      "     |      Set extra parameters for user-supplied function f.\n",
      "     |  \n",
      "     |  set_initial_value(self, y, t=0.0)\n",
      "     |      Set initial conditions y(t) = y.\n",
      "     |  \n",
      "     |  set_integrator(self, name, **integrator_params)\n",
      "     |      Set integrator by name.\n",
      "     |      \n",
      "     |      Parameters\n",
      "     |      ----------\n",
      "     |      name : str\n",
      "     |          Name of the integrator.\n",
      "     |      integrator_params\n",
      "     |          Additional parameters for the integrator.\n",
      "     |  \n",
      "     |  set_jac_params(self, *args)\n",
      "     |      Set extra parameters for user-supplied function jac.\n",
      "     |  \n",
      "     |  set_solout(self, solout)\n",
      "     |      Set callable to be called at every successful integration step.\n",
      "     |      \n",
      "     |      Parameters\n",
      "     |      ----------\n",
      "     |      solout : callable\n",
      "     |          ``solout(t, y)`` is called at each internal integrator step,\n",
      "     |          t is a scalar providing the current independent position\n",
      "     |          y is the current soloution ``y.shape == (n,)``\n",
      "     |          solout should return -1 to stop integration\n",
      "     |          otherwise it should return None or 0\n",
      "     |  \n",
      "     |  successful(self)\n",
      "     |      Check if integration was successful.\n",
      "     |  \n",
      "     |  ----------------------------------------------------------------------\n",
      "     |  Data descriptors defined here:\n",
      "     |  \n",
      "     |  __dict__\n",
      "     |      dictionary for instance variables (if defined)\n",
      "     |  \n",
      "     |  __weakref__\n",
      "     |      list of weak references to the object (if defined)\n",
      "     |  \n",
      "     |  y\n",
      "\n",
      "FUNCTIONS\n",
      "    cumtrapz(y, x=None, dx=1.0, axis=-1, initial=None)\n",
      "        Cumulatively integrate y(x) using the composite trapezoidal rule.\n",
      "        \n",
      "        Parameters\n",
      "        ----------\n",
      "        y : array_like\n",
      "            Values to integrate.\n",
      "        x : array_like, optional\n",
      "            The coordinate to integrate along.  If None (default), use spacing `dx`\n",
      "            between consecutive elements in `y`.\n",
      "        dx : int, optional\n",
      "            Spacing between elements of `y`.  Only used if `x` is None.\n",
      "        axis : int, optional\n",
      "            Specifies the axis to cumulate.  Default is -1 (last axis).\n",
      "        initial : scalar, optional\n",
      "            If given, uses this value as the first value in the returned result.\n",
      "            Typically this value should be 0.  Default is None, which means no\n",
      "            value at ``x[0]`` is returned and `res` has one element less than `y`\n",
      "            along the axis of integration.\n",
      "        \n",
      "        Returns\n",
      "        -------\n",
      "        res : ndarray\n",
      "            The result of cumulative integration of `y` along `axis`.\n",
      "            If `initial` is None, the shape is such that the axis of integration\n",
      "            has one less value than `y`.  If `initial` is given, the shape is equal\n",
      "            to that of `y`.\n",
      "        \n",
      "        See Also\n",
      "        --------\n",
      "        numpy.cumsum, numpy.cumprod\n",
      "        quad: adaptive quadrature using QUADPACK\n",
      "        romberg: adaptive Romberg quadrature\n",
      "        quadrature: adaptive Gaussian quadrature\n",
      "        fixed_quad: fixed-order Gaussian quadrature\n",
      "        dblquad: double integrals\n",
      "        tplquad: triple integrals\n",
      "        romb: integrators for sampled data\n",
      "        ode: ODE integrators\n",
      "        odeint: ODE integrators\n",
      "        \n",
      "        Examples\n",
      "        --------\n",
      "        >>> from scipy import integrate\n",
      "        >>> import matplotlib.pyplot as plt\n",
      "        \n",
      "        >>> x = np.linspace(-2, 2, num=20)\n",
      "        >>> y = x\n",
      "        >>> y_int = integrate.cumtrapz(y, x, initial=0)\n",
      "        >>> plt.plot(x, y_int, 'ro', x, y[0] + 0.5 * x**2, 'b-')\n",
      "        >>> plt.show()\n",
      "    \n",
      "    dblquad(func, a, b, gfun, hfun, args=(), epsabs=1.49e-08, epsrel=1.49e-08)\n",
      "        Compute a double integral.\n",
      "        \n",
      "        Return the double (definite) integral of ``func(y, x)`` from ``x = a..b``\n",
      "        and ``y = gfun(x)..hfun(x)``.\n",
      "        \n",
      "        Parameters\n",
      "        ----------\n",
      "        func : callable\n",
      "            A Python function or method of at least two variables: y must be the\n",
      "            first argument and x the second argument.\n",
      "        a, b : float\n",
      "            The limits of integration in x: `a` < `b`\n",
      "        gfun : callable\n",
      "            The lower boundary curve in y which is a function taking a single\n",
      "            floating point argument (x) and returning a floating point result: a\n",
      "            lambda function can be useful here.\n",
      "        hfun : callable\n",
      "            The upper boundary curve in y (same requirements as `gfun`).\n",
      "        args : sequence, optional\n",
      "            Extra arguments to pass to `func`.\n",
      "        epsabs : float, optional\n",
      "            Absolute tolerance passed directly to the inner 1-D quadrature\n",
      "            integration. Default is 1.49e-8.\n",
      "        epsrel : float, optional\n",
      "            Relative tolerance of the inner 1-D integrals. Default is 1.49e-8.\n",
      "        \n",
      "        Returns\n",
      "        -------\n",
      "        y : float\n",
      "            The resultant integral.\n",
      "        abserr : float\n",
      "            An estimate of the error.\n",
      "        \n",
      "        See also\n",
      "        --------\n",
      "        quad : single integral\n",
      "        tplquad : triple integral\n",
      "        nquad : N-dimensional integrals\n",
      "        fixed_quad : fixed-order Gaussian quadrature\n",
      "        quadrature : adaptive Gaussian quadrature\n",
      "        odeint : ODE integrator\n",
      "        ode : ODE integrator\n",
      "        simps : integrator for sampled data\n",
      "        romb : integrator for sampled data\n",
      "        scipy.special : for coefficients and roots of orthogonal polynomials\n",
      "    \n",
      "    fixed_quad(func, a, b, args=(), n=5)\n",
      "        Compute a definite integral using fixed-order Gaussian quadrature.\n",
      "        \n",
      "        Integrate `func` from `a` to `b` using Gaussian quadrature of\n",
      "        order `n`.\n",
      "        \n",
      "        Parameters\n",
      "        ----------\n",
      "        func : callable\n",
      "            A Python function or method to integrate (must accept vector inputs).\n",
      "        a : float\n",
      "            Lower limit of integration.\n",
      "        b : float\n",
      "            Upper limit of integration.\n",
      "        args : tuple, optional\n",
      "            Extra arguments to pass to function, if any.\n",
      "        n : int, optional\n",
      "            Order of quadrature integration. Default is 5.\n",
      "        \n",
      "        Returns\n",
      "        -------\n",
      "        val : float\n",
      "            Gaussian quadrature approximation to the integral\n",
      "        none : None\n",
      "            Statically returned value of None\n",
      "        \n",
      "        \n",
      "        See Also\n",
      "        --------\n",
      "        quad : adaptive quadrature using QUADPACK\n",
      "        dblquad : double integrals\n",
      "        tplquad : triple integrals\n",
      "        romberg : adaptive Romberg quadrature\n",
      "        quadrature : adaptive Gaussian quadrature\n",
      "        romb : integrators for sampled data\n",
      "        simps : integrators for sampled data\n",
      "        cumtrapz : cumulative integration for sampled data\n",
      "        ode : ODE integrator\n",
      "        odeint : ODE integrator\n",
      "    \n",
      "    newton_cotes(rn, equal=0)\n",
      "        Return weights and error coefficient for Newton-Cotes integration.\n",
      "        \n",
      "        Suppose we have (N+1) samples of f at the positions\n",
      "        x_0, x_1, ..., x_N.  Then an N-point Newton-Cotes formula for the\n",
      "        integral between x_0 and x_N is:\n",
      "        \n",
      "        :math:`\\int_{x_0}^{x_N} f(x)dx = \\Delta x \\sum_{i=0}^{N} a_i f(x_i)\n",
      "        + B_N (\\Delta x)^{N+2} f^{N+1} (\\xi)`\n",
      "        \n",
      "        where :math:`\\xi \\in [x_0,x_N]`\n",
      "        and :math:`\\Delta x = \\frac{x_N-x_0}{N}` is the average samples spacing.\n",
      "        \n",
      "        If the samples are equally-spaced and N is even, then the error\n",
      "        term is :math:`B_N (\\Delta x)^{N+3} f^{N+2}(\\xi)`.\n",
      "        \n",
      "        Parameters\n",
      "        ----------\n",
      "        rn : int\n",
      "            The integer order for equally-spaced data or the relative positions of\n",
      "            the samples with the first sample at 0 and the last at N, where N+1 is\n",
      "            the length of `rn`.  N is the order of the Newton-Cotes integration.\n",
      "        equal : int, optional\n",
      "            Set to 1 to enforce equally spaced data.\n",
      "        \n",
      "        Returns\n",
      "        -------\n",
      "        an : ndarray\n",
      "            1-D array of weights to apply to the function at the provided sample\n",
      "            positions.\n",
      "        B : float\n",
      "            Error coefficient.\n",
      "        \n",
      "        Notes\n",
      "        -----\n",
      "        Normally, the Newton-Cotes rules are used on smaller integration\n",
      "        regions and a composite rule is used to return the total integral.\n",
      "    \n",
      "    nquad(func, ranges, args=None, opts=None, full_output=False)\n",
      "        Integration over multiple variables.\n",
      "        \n",
      "        Wraps `quad` to enable integration over multiple variables.\n",
      "        Various options allow improved integration of discontinuous functions, as\n",
      "        well as the use of weighted integration, and generally finer control of the\n",
      "        integration process.\n",
      "        \n",
      "        Parameters\n",
      "        ----------\n",
      "        func : callable\n",
      "            The function to be integrated. Has arguments of ``x0, ... xn``,\n",
      "            ``t0, tm``, where integration is carried out over ``x0, ... xn``, which\n",
      "            must be floats.  Function signature should be\n",
      "            ``func(x0, x1, ..., xn, t0, t1, ..., tm)``.  Integration is carried out\n",
      "            in order.  That is, integration over ``x0`` is the innermost integral,\n",
      "            and ``xn`` is the outermost.\n",
      "            If performance is a concern, this function may be a ctypes function of\n",
      "            the form::\n",
      "        \n",
      "                f(int n, double args[n])\n",
      "        \n",
      "            where ``n`` is the number of extra parameters and args is an array\n",
      "            of doubles of the additional parameters.  This function may then\n",
      "            be compiled to a dynamic/shared library then imported through\n",
      "            ``ctypes``, setting the function's argtypes to ``(c_int, c_double)``,\n",
      "            and the function's restype to ``(c_double)``.  Its pointer may then be\n",
      "            passed into `nquad` normally.\n",
      "            This allows the underlying Fortran library to evaluate the function in\n",
      "            the innermost integration calls without callbacks to Python, and also\n",
      "            speeds up the evaluation of the function itself.\n",
      "        ranges : iterable object\n",
      "            Each element of ranges may be either a sequence  of 2 numbers, or else\n",
      "            a callable that returns such a sequence.  ``ranges[0]`` corresponds to\n",
      "            integration over x0, and so on.  If an element of ranges is a callable,\n",
      "            then it will be called with all of the integration arguments available,\n",
      "            as well as any parametric arguments. e.g. if \n",
      "            ``func = f(x0, x1, x2, t0, t1)``, then ``ranges[0]`` may be defined as\n",
      "            either ``(a, b)`` or else as ``(a, b) = range0(x1, x2, t0, t1)``.\n",
      "        args : iterable object, optional\n",
      "            Additional arguments ``t0, ..., tn``, required by `func`, `ranges`, and\n",
      "            ``opts``.\n",
      "        opts : iterable object or dict, optional\n",
      "            Options to be passed to `quad`.  May be empty, a dict, or\n",
      "            a sequence of dicts or functions that return a dict.  If empty, the\n",
      "            default options from scipy.integrate.quad are used.  If a dict, the same\n",
      "            options are used for all levels of integraion.  If a sequence, then each\n",
      "            element of the sequence corresponds to a particular integration. e.g.\n",
      "            opts[0] corresponds to integration over x0, and so on. If a callable, \n",
      "            the signature must be the same as for ``ranges``. The available\n",
      "            options together with their default values are:\n",
      "        \n",
      "              - epsabs = 1.49e-08\n",
      "              - epsrel = 1.49e-08\n",
      "              - limit  = 50\n",
      "              - points = None\n",
      "              - weight = None\n",
      "              - wvar   = None\n",
      "              - wopts  = None\n",
      "        \n",
      "            For more information on these options, see `quad` and `quad_explain`.\n",
      "        \n",
      "        full_output : bool, optional\n",
      "            Partial implementation of ``full_output`` from scipy.integrate.quad. \n",
      "            The number of integrand function evaluations ``neval`` can be obtained \n",
      "            by setting ``full_output=True`` when calling nquad.\n",
      "        \n",
      "        Returns\n",
      "        -------\n",
      "        result : float\n",
      "            The result of the integration.\n",
      "        abserr : float\n",
      "            The maximum of the estimates of the absolute error in the various\n",
      "            integration results.\n",
      "        out_dict : dict, optional\n",
      "            A dict containing additional information on the integration. \n",
      "        \n",
      "        See Also\n",
      "        --------\n",
      "        quad : 1-dimensional numerical integration\n",
      "        dblquad, tplquad : double and triple integrals\n",
      "        fixed_quad : fixed-order Gaussian quadrature\n",
      "        quadrature : adaptive Gaussian quadrature\n",
      "        \n",
      "        Examples\n",
      "        --------\n",
      "        >>> from scipy import integrate\n",
      "        >>> func = lambda x0,x1,x2,x3 : x0**2 + x1*x2 - x3**3 + np.sin(x0) + (\n",
      "        ...                                 1 if (x0-.2*x3-.5-.25*x1>0) else 0)\n",
      "        >>> points = [[lambda x1,x2,x3 : 0.2*x3 + 0.5 + 0.25*x1], [], [], []]\n",
      "        >>> def opts0(*args, **kwargs):\n",
      "        ...     return {'points':[0.2*args[2] + 0.5 + 0.25*args[0]]}\n",
      "        >>> integrate.nquad(func, [[0,1], [-1,1], [.13,.8], [-.15,1]],\n",
      "        ...                 opts=[opts0,{},{},{}], full_output=True)\n",
      "        (1.5267454070738633, 2.9437360001402324e-14, {'neval': 388962})\n",
      "        \n",
      "        >>> scale = .1\n",
      "        >>> def func2(x0, x1, x2, x3, t0, t1):\n",
      "        ...     return x0*x1*x3**2 + np.sin(x2) + 1 + (1 if x0+t1*x1-t0>0 else 0)\n",
      "        >>> def lim0(x1, x2, x3, t0, t1):\n",
      "        ...     return [scale * (x1**2 + x2 + np.cos(x3)*t0*t1 + 1) - 1,\n",
      "        ...             scale * (x1**2 + x2 + np.cos(x3)*t0*t1 + 1) + 1]\n",
      "        >>> def lim1(x2, x3, t0, t1):\n",
      "        ...     return [scale * (t0*x2 + t1*x3) - 1,\n",
      "        ...             scale * (t0*x2 + t1*x3) + 1]\n",
      "        >>> def lim2(x3, t0, t1):\n",
      "        ...     return [scale * (x3 + t0**2*t1**3) - 1,\n",
      "        ...             scale * (x3 + t0**2*t1**3) + 1]\n",
      "        >>> def lim3(t0, t1):\n",
      "        ...     return [scale * (t0+t1) - 1, scale * (t0+t1) + 1]\n",
      "        >>> def opts0(x1, x2, x3, t0, t1):\n",
      "        ...     return {'points' : [t0 - t1*x1]}\n",
      "        >>> def opts1(x2, x3, t0, t1):\n",
      "        ...     return {}\n",
      "        >>> def opts2(x3, t0, t1):\n",
      "        ...     return {}\n",
      "        >>> def opts3(t0, t1):\n",
      "        ...     return {}\n",
      "        >>> integrate.nquad(func2, [lim0, lim1, lim2, lim3], args=(0,0),\n",
      "        ...                 opts=[opts0, opts1, opts2, opts3])\n",
      "        (25.066666666666666, 2.7829590483937256e-13)\n",
      "    \n",
      "    odeint(func, y0, t, args=(), Dfun=None, col_deriv=0, full_output=0, ml=None, mu=None, rtol=None, atol=None, tcrit=None, h0=0.0, hmax=0.0, hmin=0.0, ixpr=0, mxstep=0, mxhnil=0, mxordn=12, mxords=5, printmessg=0)\n",
      "        Integrate a system of ordinary differential equations.\n",
      "        \n",
      "        Solve a system of ordinary differential equations using lsoda from the\n",
      "        FORTRAN library odepack.\n",
      "        \n",
      "        Solves the initial value problem for stiff or non-stiff systems\n",
      "        of first order ode-s::\n",
      "        \n",
      "            dy/dt = func(y, t0, ...)\n",
      "        \n",
      "        where y can be a vector.\n",
      "        \n",
      "        *Note*: The first two arguments of ``func(y, t0, ...)`` are in the\n",
      "        opposite order of the arguments in the system definition function used\n",
      "        by the `scipy.integrate.ode` class.\n",
      "        \n",
      "        Parameters\n",
      "        ----------\n",
      "        func : callable(y, t0, ...)\n",
      "            Computes the derivative of y at t0.\n",
      "        y0 : array\n",
      "            Initial condition on y (can be a vector).\n",
      "        t : array\n",
      "            A sequence of time points for which to solve for y.  The initial\n",
      "            value point should be the first element of this sequence.\n",
      "        args : tuple, optional\n",
      "            Extra arguments to pass to function.\n",
      "        Dfun : callable(y, t0, ...)\n",
      "            Gradient (Jacobian) of `func`.\n",
      "        col_deriv : bool, optional\n",
      "            True if `Dfun` defines derivatives down columns (faster),\n",
      "            otherwise `Dfun` should define derivatives across rows.\n",
      "        full_output : bool, optional\n",
      "            True if to return a dictionary of optional outputs as the second output\n",
      "        printmessg : bool, optional\n",
      "            Whether to print the convergence message\n",
      "        \n",
      "        Returns\n",
      "        -------\n",
      "        y : array, shape (len(t), len(y0))\n",
      "            Array containing the value of y for each desired time in t,\n",
      "            with the initial value `y0` in the first row.\n",
      "        infodict : dict, only returned if full_output == True\n",
      "            Dictionary containing additional output information\n",
      "        \n",
      "            =======  ============================================================\n",
      "            key      meaning\n",
      "            =======  ============================================================\n",
      "            'hu'     vector of step sizes successfully used for each time step.\n",
      "            'tcur'   vector with the value of t reached for each time step.\n",
      "                     (will always be at least as large as the input times).\n",
      "            'tolsf'  vector of tolerance scale factors, greater than 1.0,\n",
      "                     computed when a request for too much accuracy was detected.\n",
      "            'tsw'    value of t at the time of the last method switch\n",
      "                     (given for each time step)\n",
      "            'nst'    cumulative number of time steps\n",
      "            'nfe'    cumulative number of function evaluations for each time step\n",
      "            'nje'    cumulative number of jacobian evaluations for each time step\n",
      "            'nqu'    a vector of method orders for each successful step.\n",
      "            'imxer'  index of the component of largest magnitude in the\n",
      "                     weighted local error vector (e / ewt) on an error return, -1\n",
      "                     otherwise.\n",
      "            'lenrw'  the length of the double work array required.\n",
      "            'leniw'  the length of integer work array required.\n",
      "            'mused'  a vector of method indicators for each successful time step:\n",
      "                     1: adams (nonstiff), 2: bdf (stiff)\n",
      "            =======  ============================================================\n",
      "        \n",
      "        Other Parameters\n",
      "        ----------------\n",
      "        ml, mu : int, optional\n",
      "            If either of these are not None or non-negative, then the\n",
      "            Jacobian is assumed to be banded.  These give the number of\n",
      "            lower and upper non-zero diagonals in this banded matrix.\n",
      "            For the banded case, `Dfun` should return a matrix whose\n",
      "            rows contain the non-zero bands (starting with the lowest diagonal).\n",
      "            Thus, the return matrix `jac` from `Dfun` should have shape\n",
      "            ``(ml + mu + 1, len(y0))`` when ``ml >=0`` or ``mu >=0``.\n",
      "            The data in `jac` must be stored such that ``jac[i - j + mu, j]``\n",
      "            holds the derivative of the `i`th equation with respect to the `j`th\n",
      "            state variable.  If `col_deriv` is True, the transpose of this\n",
      "            `jac` must be returned.\n",
      "        rtol, atol : float, optional\n",
      "            The input parameters `rtol` and `atol` determine the error\n",
      "            control performed by the solver.  The solver will control the\n",
      "            vector, e, of estimated local errors in y, according to an\n",
      "            inequality of the form ``max-norm of (e / ewt) <= 1``,\n",
      "            where ewt is a vector of positive error weights computed as\n",
      "            ``ewt = rtol * abs(y) + atol``.\n",
      "            rtol and atol can be either vectors the same length as y or scalars.\n",
      "            Defaults to 1.49012e-8.\n",
      "        tcrit : ndarray, optional\n",
      "            Vector of critical points (e.g. singularities) where integration\n",
      "            care should be taken.\n",
      "        h0 : float, (0: solver-determined), optional\n",
      "            The step size to be attempted on the first step.\n",
      "        hmax : float, (0: solver-determined), optional\n",
      "            The maximum absolute step size allowed.\n",
      "        hmin : float, (0: solver-determined), optional\n",
      "            The minimum absolute step size allowed.\n",
      "        ixpr : bool, optional\n",
      "            Whether to generate extra printing at method switches.\n",
      "        mxstep : int, (0: solver-determined), optional\n",
      "            Maximum number of (internally defined) steps allowed for each\n",
      "            integration point in t.\n",
      "        mxhnil : int, (0: solver-determined), optional\n",
      "            Maximum number of messages printed.\n",
      "        mxordn : int, (0: solver-determined), optional\n",
      "            Maximum order to be allowed for the non-stiff (Adams) method.\n",
      "        mxords : int, (0: solver-determined), optional\n",
      "            Maximum order to be allowed for the stiff (BDF) method.\n",
      "        \n",
      "        See Also\n",
      "        --------\n",
      "        ode : a more object-oriented integrator based on VODE.\n",
      "        quad : for finding the area under a curve.\n",
      "        \n",
      "        Examples\n",
      "        --------\n",
      "        The second order differential equation for the angle `theta` of a\n",
      "        pendulum acted on by gravity with friction can be written::\n",
      "        \n",
      "            theta''(t) + b*theta'(t) + c*sin(theta(t)) = 0\n",
      "        \n",
      "        where `b` and `c` are positive constants, and a prime (') denotes a\n",
      "        derivative.  To solve this equation with `odeint`, we must first convert\n",
      "        it to a system of first order equations.  By defining the angular\n",
      "        velocity ``omega(t) = theta'(t)``, we obtain the system::\n",
      "        \n",
      "            theta'(t) = omega(t)\n",
      "            omega'(t) = -b*omega(t) - c*sin(theta(t))\n",
      "        \n",
      "        Let `y` be the vector [`theta`, `omega`].  We implement this system\n",
      "        in python as:\n",
      "        \n",
      "        >>> def pend(y, t, b, c):\n",
      "        ...     theta, omega = y\n",
      "        ...     dydt = [omega, -b*omega - c*np.sin(theta)]\n",
      "        ...     return dydt\n",
      "        ...\n",
      "        \n",
      "        We assume the constants are `b` = 0.25 and `c` = 5.0:\n",
      "        \n",
      "        >>> b = 0.25\n",
      "        >>> c = 5.0\n",
      "        \n",
      "        For initial conditions, we assume the pendulum is nearly vertical\n",
      "        with `theta(0)` = `pi` - 0.1, and it initially at rest, so\n",
      "        `omega(0)` = 0.  Then the vector of initial conditions is\n",
      "        \n",
      "        >>> y0 = [np.pi - 0.1, 0.0]\n",
      "        \n",
      "        We generate a solution 101 evenly spaced samples in the interval\n",
      "        0 <= `t` <= 10.  So our array of times is:\n",
      "        \n",
      "        >>> t = np.linspace(0, 10, 101)\n",
      "        \n",
      "        Call `odeint` to generate the solution.  To pass the parameters\n",
      "        `b` and `c` to `pend`, we give them to `odeint` using the `args`\n",
      "        argument.\n",
      "        \n",
      "        >>> from scipy.integrate import odeint\n",
      "        >>> sol = odeint(pend, y0, t, args=(b, c))\n",
      "        \n",
      "        The solution is an array with shape (101, 2).  The first column\n",
      "        is `theta(t)`, and the second is `omega(t)`.  The following code\n",
      "        plots both components.\n",
      "        \n",
      "        >>> import matplotlib.pyplot as plt\n",
      "        >>> plt.plot(t, sol[:, 0], 'b', label='theta(t)')\n",
      "        >>> plt.plot(t, sol[:, 1], 'g', label='omega(t)')\n",
      "        >>> plt.legend(loc='best')\n",
      "        >>> plt.xlabel('t')\n",
      "        >>> plt.grid()\n",
      "        >>> plt.show()\n",
      "    \n",
      "    quad(func, a, b, args=(), full_output=0, epsabs=1.49e-08, epsrel=1.49e-08, limit=50, points=None, weight=None, wvar=None, wopts=None, maxp1=50, limlst=50)\n",
      "        Compute a definite integral.\n",
      "        \n",
      "        Integrate func from `a` to `b` (possibly infinite interval) using a\n",
      "        technique from the Fortran library QUADPACK.\n",
      "        \n",
      "        Parameters\n",
      "        ----------\n",
      "        func : function\n",
      "            A Python function or method to integrate.  If `func` takes many\n",
      "            arguments, it is integrated along the axis corresponding to the\n",
      "            first argument.\n",
      "            If the user desires improved integration performance, then f may\n",
      "            instead be a ``ctypes`` function of the form:\n",
      "        \n",
      "                f(int n, double args[n]),\n",
      "        \n",
      "            where ``args`` is an array of function arguments and ``n`` is the\n",
      "            length of ``args``. ``f.argtypes`` should be set to\n",
      "            ``(c_int, c_double)``, and ``f.restype`` should be ``(c_double,)``.\n",
      "        a : float\n",
      "            Lower limit of integration (use -numpy.inf for -infinity).\n",
      "        b : float\n",
      "            Upper limit of integration (use numpy.inf for +infinity).\n",
      "        args : tuple, optional\n",
      "            Extra arguments to pass to `func`.\n",
      "        full_output : int, optional\n",
      "            Non-zero to return a dictionary of integration information.\n",
      "            If non-zero, warning messages are also suppressed and the\n",
      "            message is appended to the output tuple.\n",
      "        \n",
      "        Returns\n",
      "        -------\n",
      "        y : float\n",
      "            The integral of func from `a` to `b`.\n",
      "        abserr : float\n",
      "            An estimate of the absolute error in the result.\n",
      "        infodict : dict\n",
      "            A dictionary containing additional information.\n",
      "            Run scipy.integrate.quad_explain() for more information.\n",
      "        message\n",
      "            A convergence message.\n",
      "        explain\n",
      "            Appended only with 'cos' or 'sin' weighting and infinite\n",
      "            integration limits, it contains an explanation of the codes in\n",
      "            infodict['ierlst']\n",
      "        \n",
      "        Other Parameters\n",
      "        ----------------\n",
      "        epsabs : float or int, optional\n",
      "            Absolute error tolerance.\n",
      "        epsrel : float or int, optional\n",
      "            Relative error tolerance.\n",
      "        limit : float or int, optional\n",
      "            An upper bound on the number of subintervals used in the adaptive\n",
      "            algorithm.\n",
      "        points : (sequence of floats,ints), optional\n",
      "            A sequence of break points in the bounded integration interval\n",
      "            where local difficulties of the integrand may occur (e.g.,\n",
      "            singularities, discontinuities). The sequence does not have\n",
      "            to be sorted.\n",
      "        weight : float or int, optional\n",
      "            String indicating weighting function. Full explanation for this\n",
      "            and the remaining arguments can be found below.\n",
      "        wvar : optional\n",
      "            Variables for use with weighting functions.\n",
      "        wopts : optional\n",
      "            Optional input for reusing Chebyshev moments.\n",
      "        maxp1 : float or int, optional\n",
      "            An upper bound on the number of Chebyshev moments.\n",
      "        limlst : int, optional\n",
      "            Upper bound on the number of cycles (>=3) for use with a sinusoidal\n",
      "            weighting and an infinite end-point.\n",
      "        \n",
      "        See Also\n",
      "        --------\n",
      "        dblquad : double integral\n",
      "        tplquad : triple integral\n",
      "        nquad : n-dimensional integrals (uses `quad` recursively)\n",
      "        fixed_quad : fixed-order Gaussian quadrature\n",
      "        quadrature : adaptive Gaussian quadrature\n",
      "        odeint : ODE integrator\n",
      "        ode : ODE integrator\n",
      "        simps : integrator for sampled data\n",
      "        romb : integrator for sampled data\n",
      "        scipy.special : for coefficients and roots of orthogonal polynomials\n",
      "        \n",
      "        Notes\n",
      "        -----\n",
      "        \n",
      "        **Extra information for quad() inputs and outputs**\n",
      "        \n",
      "        If full_output is non-zero, then the third output argument\n",
      "        (infodict) is a dictionary with entries as tabulated below.  For\n",
      "        infinite limits, the range is transformed to (0,1) and the\n",
      "        optional outputs are given with respect to this transformed range.\n",
      "        Let M be the input argument limit and let K be infodict['last'].\n",
      "        The entries are:\n",
      "        \n",
      "        'neval'\n",
      "            The number of function evaluations.\n",
      "        'last'\n",
      "            The number, K, of subintervals produced in the subdivision process.\n",
      "        'alist'\n",
      "            A rank-1 array of length M, the first K elements of which are the\n",
      "            left end points of the subintervals in the partition of the\n",
      "            integration range.\n",
      "        'blist'\n",
      "            A rank-1 array of length M, the first K elements of which are the\n",
      "            right end points of the subintervals.\n",
      "        'rlist'\n",
      "            A rank-1 array of length M, the first K elements of which are the\n",
      "            integral approximations on the subintervals.\n",
      "        'elist'\n",
      "            A rank-1 array of length M, the first K elements of which are the\n",
      "            moduli of the absolute error estimates on the subintervals.\n",
      "        'iord'\n",
      "            A rank-1 integer array of length M, the first L elements of\n",
      "            which are pointers to the error estimates over the subintervals\n",
      "            with ``L=K`` if ``K<=M/2+2`` or ``L=M+1-K`` otherwise. Let I be the\n",
      "            sequence ``infodict['iord']`` and let E be the sequence\n",
      "            ``infodict['elist']``.  Then ``E[I[1]], ..., E[I[L]]`` forms a\n",
      "            decreasing sequence.\n",
      "        \n",
      "        If the input argument points is provided (i.e. it is not None),\n",
      "        the following additional outputs are placed in the output\n",
      "        dictionary.  Assume the points sequence is of length P.\n",
      "        \n",
      "        'pts'\n",
      "            A rank-1 array of length P+2 containing the integration limits\n",
      "            and the break points of the intervals in ascending order.\n",
      "            This is an array giving the subintervals over which integration\n",
      "            will occur.\n",
      "        'level'\n",
      "            A rank-1 integer array of length M (=limit), containing the\n",
      "            subdivision levels of the subintervals, i.e., if (aa,bb) is a\n",
      "            subinterval of ``(pts[1], pts[2])`` where ``pts[0]`` and ``pts[2]``\n",
      "            are adjacent elements of ``infodict['pts']``, then (aa,bb) has level l\n",
      "            if ``|bb-aa| = |pts[2]-pts[1]| * 2**(-l)``.\n",
      "        'ndin'\n",
      "            A rank-1 integer array of length P+2.  After the first integration\n",
      "            over the intervals (pts[1], pts[2]), the error estimates over some\n",
      "            of the intervals may have been increased artificially in order to\n",
      "            put their subdivision forward.  This array has ones in slots\n",
      "            corresponding to the subintervals for which this happens.\n",
      "        \n",
      "        **Weighting the integrand**\n",
      "        \n",
      "        The input variables, *weight* and *wvar*, are used to weight the\n",
      "        integrand by a select list of functions.  Different integration\n",
      "        methods are used to compute the integral with these weighting\n",
      "        functions.  The possible values of weight and the corresponding\n",
      "        weighting functions are.\n",
      "        \n",
      "        ==========  ===================================   =====================\n",
      "        ``weight``  Weight function used                  ``wvar``\n",
      "        ==========  ===================================   =====================\n",
      "        'cos'       cos(w*x)                              wvar = w\n",
      "        'sin'       sin(w*x)                              wvar = w\n",
      "        'alg'       g(x) = ((x-a)**alpha)*((b-x)**beta)   wvar = (alpha, beta)\n",
      "        'alg-loga'  g(x)*log(x-a)                         wvar = (alpha, beta)\n",
      "        'alg-logb'  g(x)*log(b-x)                         wvar = (alpha, beta)\n",
      "        'alg-log'   g(x)*log(x-a)*log(b-x)                wvar = (alpha, beta)\n",
      "        'cauchy'    1/(x-c)                               wvar = c\n",
      "        ==========  ===================================   =====================\n",
      "        \n",
      "        wvar holds the parameter w, (alpha, beta), or c depending on the weight\n",
      "        selected.  In these expressions, a and b are the integration limits.\n",
      "        \n",
      "        For the 'cos' and 'sin' weighting, additional inputs and outputs are\n",
      "        available.\n",
      "        \n",
      "        For finite integration limits, the integration is performed using a\n",
      "        Clenshaw-Curtis method which uses Chebyshev moments.  For repeated\n",
      "        calculations, these moments are saved in the output dictionary:\n",
      "        \n",
      "        'momcom'\n",
      "            The maximum level of Chebyshev moments that have been computed,\n",
      "            i.e., if ``M_c`` is ``infodict['momcom']`` then the moments have been\n",
      "            computed for intervals of length ``|b-a| * 2**(-l)``,\n",
      "            ``l=0,1,...,M_c``.\n",
      "        'nnlog'\n",
      "            A rank-1 integer array of length M(=limit), containing the\n",
      "            subdivision levels of the subintervals, i.e., an element of this\n",
      "            array is equal to l if the corresponding subinterval is\n",
      "            ``|b-a|* 2**(-l)``.\n",
      "        'chebmo'\n",
      "            A rank-2 array of shape (25, maxp1) containing the computed\n",
      "            Chebyshev moments.  These can be passed on to an integration\n",
      "            over the same interval by passing this array as the second\n",
      "            element of the sequence wopts and passing infodict['momcom'] as\n",
      "            the first element.\n",
      "        \n",
      "        If one of the integration limits is infinite, then a Fourier integral is\n",
      "        computed (assuming w neq 0).  If full_output is 1 and a numerical error\n",
      "        is encountered, besides the error message attached to the output tuple,\n",
      "        a dictionary is also appended to the output tuple which translates the\n",
      "        error codes in the array ``info['ierlst']`` to English messages.  The\n",
      "        output information dictionary contains the following entries instead of\n",
      "        'last', 'alist', 'blist', 'rlist', and 'elist':\n",
      "        \n",
      "        'lst'\n",
      "            The number of subintervals needed for the integration (call it ``K_f``).\n",
      "        'rslst'\n",
      "            A rank-1 array of length M_f=limlst, whose first ``K_f`` elements\n",
      "            contain the integral contribution over the interval\n",
      "            ``(a+(k-1)c, a+kc)`` where ``c = (2*floor(|w|) + 1) * pi / |w|``\n",
      "            and ``k=1,2,...,K_f``.\n",
      "        'erlst'\n",
      "            A rank-1 array of length ``M_f`` containing the error estimate\n",
      "            corresponding to the interval in the same position in\n",
      "            ``infodict['rslist']``.\n",
      "        'ierlst'\n",
      "            A rank-1 integer array of length ``M_f`` containing an error flag\n",
      "            corresponding to the interval in the same position in\n",
      "            ``infodict['rslist']``.  See the explanation dictionary (last entry\n",
      "            in the output tuple) for the meaning of the codes.\n",
      "        \n",
      "        Examples\n",
      "        --------\n",
      "        Calculate :math:`\\int^4_0 x^2 dx` and compare with an analytic result\n",
      "        \n",
      "        >>> from scipy import integrate\n",
      "        >>> x2 = lambda x: x**2\n",
      "        >>> integrate.quad(x2, 0, 4)\n",
      "        (21.333333333333332, 2.3684757858670003e-13)\n",
      "        >>> print(4**3 / 3.)  # analytical result\n",
      "        21.3333333333\n",
      "        \n",
      "        Calculate :math:`\\int^\\infty_0 e^{-x} dx`\n",
      "        \n",
      "        >>> invexp = lambda x: np.exp(-x)\n",
      "        >>> integrate.quad(invexp, 0, np.inf)\n",
      "        (1.0, 5.842605999138044e-11)\n",
      "        \n",
      "        >>> f = lambda x,a : a*x\n",
      "        >>> y, err = integrate.quad(f, 0, 1, args=(1,))\n",
      "        >>> y\n",
      "        0.5\n",
      "        >>> y, err = integrate.quad(f, 0, 1, args=(3,))\n",
      "        >>> y\n",
      "        1.5\n",
      "        \n",
      "        Calculate :math:`\\int^1_0 x^2 + y^2 dx` with ctypes, holding\n",
      "        y parameter as 1::\n",
      "        \n",
      "            testlib.c =>\n",
      "                double func(int n, double args[n]){\n",
      "                    return args[0]*args[0] + args[1]*args[1];}\n",
      "            compile to library testlib.*\n",
      "        \n",
      "        ::\n",
      "        \n",
      "           from scipy import integrate\n",
      "           import ctypes\n",
      "           lib = ctypes.CDLL('/home/.../testlib.*') #use absolute path\n",
      "           lib.func.restype = ctypes.c_double\n",
      "           lib.func.argtypes = (ctypes.c_int,ctypes.c_double)\n",
      "           integrate.quad(lib.func,0,1,(1))\n",
      "           #(1.3333333333333333, 1.4802973661668752e-14)\n",
      "           print((1.0**3/3.0 + 1.0) - (0.0**3/3.0 + 0.0)) #Analytic result\n",
      "           # 1.3333333333333333\n",
      "    \n",
      "    quad_explain(output=<ipykernel.iostream.OutStream object at 0x7f062f909dd8>)\n",
      "        Print extra information about integrate.quad() parameters and returns.\n",
      "        \n",
      "        Parameters\n",
      "        ----------\n",
      "        output : instance with \"write\" method, optional\n",
      "            Information about `quad` is passed to ``output.write()``.\n",
      "            Default is ``sys.stdout``.\n",
      "        \n",
      "        Returns\n",
      "        -------\n",
      "        None\n",
      "    \n",
      "    quadrature(func, a, b, args=(), tol=1.49e-08, rtol=1.49e-08, maxiter=50, vec_func=True, miniter=1)\n",
      "        Compute a definite integral using fixed-tolerance Gaussian quadrature.\n",
      "        \n",
      "        Integrate `func` from `a` to `b` using Gaussian quadrature\n",
      "        with absolute tolerance `tol`.\n",
      "        \n",
      "        Parameters\n",
      "        ----------\n",
      "        func : function\n",
      "            A Python function or method to integrate.\n",
      "        a : float\n",
      "            Lower limit of integration.\n",
      "        b : float\n",
      "            Upper limit of integration.\n",
      "        args : tuple, optional\n",
      "            Extra arguments to pass to function.\n",
      "        tol, rtol : float, optional\n",
      "            Iteration stops when error between last two iterates is less than\n",
      "            `tol` OR the relative change is less than `rtol`.\n",
      "        maxiter : int, optional\n",
      "            Maximum order of Gaussian quadrature.\n",
      "        vec_func : bool, optional\n",
      "            True or False if func handles arrays as arguments (is\n",
      "            a \"vector\" function). Default is True.\n",
      "        miniter : int, optional\n",
      "            Minimum order of Gaussian quadrature.\n",
      "        \n",
      "        Returns\n",
      "        -------\n",
      "        val : float\n",
      "            Gaussian quadrature approximation (within tolerance) to integral.\n",
      "        err : float\n",
      "            Difference between last two estimates of the integral.\n",
      "        \n",
      "        See also\n",
      "        --------\n",
      "        romberg: adaptive Romberg quadrature\n",
      "        fixed_quad: fixed-order Gaussian quadrature\n",
      "        quad: adaptive quadrature using QUADPACK\n",
      "        dblquad: double integrals\n",
      "        tplquad: triple integrals\n",
      "        romb: integrator for sampled data\n",
      "        simps: integrator for sampled data\n",
      "        cumtrapz: cumulative integration for sampled data\n",
      "        ode: ODE integrator\n",
      "        odeint: ODE integrator\n",
      "    \n",
      "    romb(y, dx=1.0, axis=-1, show=False)\n",
      "        Romberg integration using samples of a function.\n",
      "        \n",
      "        Parameters\n",
      "        ----------\n",
      "        y : array_like\n",
      "            A vector of ``2**k + 1`` equally-spaced samples of a function.\n",
      "        dx : float, optional\n",
      "            The sample spacing. Default is 1.\n",
      "        axis : int, optional\n",
      "            The axis along which to integrate. Default is -1 (last axis).\n",
      "        show : bool, optional\n",
      "            When `y` is a single 1-D array, then if this argument is True\n",
      "            print the table showing Richardson extrapolation from the\n",
      "            samples. Default is False.\n",
      "        \n",
      "        Returns\n",
      "        -------\n",
      "        romb : ndarray\n",
      "            The integrated result for `axis`.\n",
      "        \n",
      "        See also\n",
      "        --------\n",
      "        quad : adaptive quadrature using QUADPACK\n",
      "        romberg : adaptive Romberg quadrature\n",
      "        quadrature : adaptive Gaussian quadrature\n",
      "        fixed_quad : fixed-order Gaussian quadrature\n",
      "        dblquad : double integrals\n",
      "        tplquad : triple integrals\n",
      "        simps : integrators for sampled data\n",
      "        cumtrapz : cumulative integration for sampled data\n",
      "        ode : ODE integrators\n",
      "        odeint : ODE integrators\n",
      "    \n",
      "    romberg(function, a, b, args=(), tol=1.48e-08, rtol=1.48e-08, show=False, divmax=10, vec_func=False)\n",
      "        Romberg integration of a callable function or method.\n",
      "        \n",
      "        Returns the integral of `function` (a function of one variable)\n",
      "        over the interval (`a`, `b`).\n",
      "        \n",
      "        If `show` is 1, the triangular array of the intermediate results\n",
      "        will be printed.  If `vec_func` is True (default is False), then\n",
      "        `function` is assumed to support vector arguments.\n",
      "        \n",
      "        Parameters\n",
      "        ----------\n",
      "        function : callable\n",
      "            Function to be integrated.\n",
      "        a : float\n",
      "            Lower limit of integration.\n",
      "        b : float\n",
      "            Upper limit of integration.\n",
      "        \n",
      "        Returns\n",
      "        -------\n",
      "        results  : float\n",
      "            Result of the integration.\n",
      "        \n",
      "        Other Parameters\n",
      "        ----------------\n",
      "        args : tuple, optional\n",
      "            Extra arguments to pass to function. Each element of `args` will\n",
      "            be passed as a single argument to `func`. Default is to pass no\n",
      "            extra arguments.\n",
      "        tol, rtol : float, optional\n",
      "            The desired absolute and relative tolerances. Defaults are 1.48e-8.\n",
      "        show : bool, optional\n",
      "            Whether to print the results. Default is False.\n",
      "        divmax : int, optional\n",
      "            Maximum order of extrapolation. Default is 10.\n",
      "        vec_func : bool, optional\n",
      "            Whether `func` handles arrays as arguments (i.e whether it is a\n",
      "            \"vector\" function). Default is False.\n",
      "        \n",
      "        See Also\n",
      "        --------\n",
      "        fixed_quad : Fixed-order Gaussian quadrature.\n",
      "        quad : Adaptive quadrature using QUADPACK.\n",
      "        dblquad : Double integrals.\n",
      "        tplquad : Triple integrals.\n",
      "        romb : Integrators for sampled data.\n",
      "        simps : Integrators for sampled data.\n",
      "        cumtrapz : Cumulative integration for sampled data.\n",
      "        ode : ODE integrator.\n",
      "        odeint : ODE integrator.\n",
      "        \n",
      "        References\n",
      "        ----------\n",
      "        .. [1] 'Romberg's method' http://en.wikipedia.org/wiki/Romberg%27s_method\n",
      "        \n",
      "        Examples\n",
      "        --------\n",
      "        Integrate a gaussian from 0 to 1 and compare to the error function.\n",
      "        \n",
      "        >>> from scipy import integrate\n",
      "        >>> from scipy.special import erf\n",
      "        >>> gaussian = lambda x: 1/np.sqrt(np.pi) * np.exp(-x**2)\n",
      "        >>> result = integrate.romberg(gaussian, 0, 1, show=True)\n",
      "        Romberg integration of <function vfunc at ...> from [0, 1]\n",
      "        \n",
      "        ::\n",
      "        \n",
      "           Steps  StepSize  Results\n",
      "               1  1.000000  0.385872\n",
      "               2  0.500000  0.412631  0.421551\n",
      "               4  0.250000  0.419184  0.421368  0.421356\n",
      "               8  0.125000  0.420810  0.421352  0.421350  0.421350\n",
      "              16  0.062500  0.421215  0.421350  0.421350  0.421350  0.421350\n",
      "              32  0.031250  0.421317  0.421350  0.421350  0.421350  0.421350  0.421350\n",
      "        \n",
      "        The final result is 0.421350396475 after 33 function evaluations.\n",
      "        \n",
      "        >>> print(\"%g %g\" % (2*result, erf(1)))\n",
      "        0.842701 0.842701\n",
      "    \n",
      "    simps(y, x=None, dx=1, axis=-1, even='avg')\n",
      "        Integrate y(x) using samples along the given axis and the composite\n",
      "        Simpson's rule.  If x is None, spacing of dx is assumed.\n",
      "        \n",
      "        If there are an even number of samples, N, then there are an odd\n",
      "        number of intervals (N-1), but Simpson's rule requires an even number\n",
      "        of intervals.  The parameter 'even' controls how this is handled.\n",
      "        \n",
      "        Parameters\n",
      "        ----------\n",
      "        y : array_like\n",
      "            Array to be integrated.\n",
      "        x : array_like, optional\n",
      "            If given, the points at which `y` is sampled.\n",
      "        dx : int, optional\n",
      "            Spacing of integration points along axis of `y`. Only used when\n",
      "            `x` is None. Default is 1.\n",
      "        axis : int, optional\n",
      "            Axis along which to integrate. Default is the last axis.\n",
      "        even : {'avg', 'first', 'str'}, optional\n",
      "            'avg' : Average two results:1) use the first N-2 intervals with\n",
      "                      a trapezoidal rule on the last interval and 2) use the last\n",
      "                      N-2 intervals with a trapezoidal rule on the first interval.\n",
      "        \n",
      "            'first' : Use Simpson's rule for the first N-2 intervals with\n",
      "                    a trapezoidal rule on the last interval.\n",
      "        \n",
      "            'last' : Use Simpson's rule for the last N-2 intervals with a\n",
      "                   trapezoidal rule on the first interval.\n",
      "        \n",
      "        See Also\n",
      "        --------\n",
      "        quad: adaptive quadrature using QUADPACK\n",
      "        romberg: adaptive Romberg quadrature\n",
      "        quadrature: adaptive Gaussian quadrature\n",
      "        fixed_quad: fixed-order Gaussian quadrature\n",
      "        dblquad: double integrals\n",
      "        tplquad: triple integrals\n",
      "        romb: integrators for sampled data\n",
      "        cumtrapz: cumulative integration for sampled data\n",
      "        ode: ODE integrators\n",
      "        odeint: ODE integrators\n",
      "        \n",
      "        Notes\n",
      "        -----\n",
      "        For an odd number of samples that are equally spaced the result is\n",
      "        exact if the function is a polynomial of order 3 or less.  If\n",
      "        the samples are not equally spaced, then the result is exact only\n",
      "        if the function is a polynomial of order 2 or less.\n",
      "    \n",
      "    solve_bvp(fun, bc, x, y, p=None, S=None, fun_jac=None, bc_jac=None, tol=0.001, max_nodes=1000, verbose=0)\n",
      "        Solve a boundary-value problem for a system of ODEs.\n",
      "        \n",
      "        This function numerically solves a first order system of ODEs subject to\n",
      "        two-point boundary conditions::\n",
      "        \n",
      "            dy / dx = f(x, y, p) + S * y / (x - a), a <= x <= b\n",
      "            bc(y(a), y(b), p) = 0\n",
      "        \n",
      "        Here x is a 1-dimensional independent variable, y(x) is a n-dimensional\n",
      "        vector-valued function and p is a k-dimensional vector of unknown\n",
      "        parameters which is to be found along with y(x). For the problem to be\n",
      "        determined there must be n + k boundary conditions, i.e. bc must be\n",
      "        (n + k)-dimensional function.\n",
      "        \n",
      "        The last singular term in the right-hand side of the system is optional.\n",
      "        It is defined by an n-by-n matrix S, such that the solution must satisfy\n",
      "        S y(a) = 0. This condition will be forced during iterations, so it must not\n",
      "        contradict boundary conditions. See [2]_ for the explanation how this term\n",
      "        is handled when solving BVPs numerically.\n",
      "        \n",
      "        Problems in a complex domain can be solved as well. In this case y and p\n",
      "        are considered to be complex, and f and bc are assumed to be complex-valued\n",
      "        functions, but x stays real. Note that f and bc must be complex\n",
      "        differentiable (satisfy Cauchy-Riemann equations [4]_), otherwise you\n",
      "        should rewrite your problem for real and imaginary parts separately. To\n",
      "        solve a problem in a complex domain, pass an initial guess for y with a\n",
      "        complex data type (see below).\n",
      "        \n",
      "        Parameters\n",
      "        ----------\n",
      "        fun : callable\n",
      "            Right-hand side of the system. The calling signature is ``fun(x, y)``,\n",
      "            or ``fun(x, y, p)`` if parameters are present. All arguments are\n",
      "            ndarray: ``x`` with shape (m,), ``y`` with shape (n, m), meaning that\n",
      "            ``y[:, i]`` corresponds to ``x[i]``, and ``p`` with shape (k,). The\n",
      "            return value must be an array with shape (n, m) and with the same\n",
      "            layout as ``y``.\n",
      "        bc : callable\n",
      "            Function evaluating residuals of the boundary conditions. The calling\n",
      "            signature is ``bc(ya, yb)``, or ``bc(ya, yb, p)`` if parameters are\n",
      "            present. All arguments are ndarray: ``ya`` and ``yb`` with shape (n,),\n",
      "            and ``p`` with shape (k,). The return value must be an array with\n",
      "            shape (n + k,).\n",
      "        x : array_like, shape (m,)\n",
      "            Initial mesh. Must be a strictly increasing sequence of real numbers\n",
      "            with ``x[0]=a`` and ``x[-1]=b``.\n",
      "        y : array_like, shape (n, m)\n",
      "            Initial guess for the function values at the mesh nodes, i-th column\n",
      "            corresponds to ``x[i]``. For problems in a complex domain pass `y`\n",
      "            with a complex data type (even if the initial guess is purely real).\n",
      "        p : array_like with shape (k,) or None, optional\n",
      "            Initial guess for the unknown parameters. If None (default), it is\n",
      "            assumed that the problem doesn't depend on any parameters.\n",
      "        S : array_like with shape (n, n) or None\n",
      "            Matrix defining the singular term. If None (default), the problem is\n",
      "            solved without the singular term.\n",
      "        fun_jac : callable or None, optional\n",
      "            Function computing derivatives of f with respect to y and p. The\n",
      "            calling signature is ``fun_jac(x, y)``, or ``fun_jac(x, y, p)`` if\n",
      "            parameters are present. The return must contain 1 or 2 elements in the\n",
      "            following order:\n",
      "        \n",
      "                * df_dy : array_like with shape (n, n, m) where an element\n",
      "                  (i, j, q) equals to d f_i(x_q, y_q, p) / d (y_q)_j.\n",
      "                * df_dp : array_like with shape (n, k, m) where an element\n",
      "                  (i, j, q) equals to d f_i(x_q, y_q, p) / d p_j.\n",
      "        \n",
      "            Here q numbers nodes at which x and y are defined, whereas i and j\n",
      "            number vector components. If the problem is solved without unknown\n",
      "            parameters df_dp should not be returned.\n",
      "        \n",
      "            If `fun_jac` is None (default), the derivatives will be estimated\n",
      "            by the forward finite differences.\n",
      "        bc_jac : callable or None, optional\n",
      "            Function computing derivatives of bc with respect to ya, yb and p.\n",
      "            The calling signature is ``bc_jac(ya, yb)``, or ``bc_jac(ya, yb, p)``\n",
      "            if parameters are present. The return must contain 2 or 3 elements in\n",
      "            the following order:\n",
      "        \n",
      "                * dbc_dya : array_like with shape (n, n) where an element (i, j)\n",
      "                  equals to d bc_i(ya, yb, p) / d ya_j.\n",
      "                * dbc_dyb : array_like with shape (n, n) where an element (i, j)\n",
      "                  equals to d bc_i(ya, yb, p) / d yb_j.\n",
      "                * dbc_dp : array_like with shape (n, k) where an element (i, j)\n",
      "                  equals to d bc_i(ya, yb, p) / d p_j.\n",
      "        \n",
      "            If the problem is solved without unknown parameters dbc_dp should not\n",
      "            be returned.\n",
      "        \n",
      "            If `bc_jac` is None (default), the derivatives will be estimated by\n",
      "            the forward finite differences.\n",
      "        tol : float, optional\n",
      "            Desired tolerance of the solution. If we define ``r = y' - f(x, y)``\n",
      "            where y is the found solution, then the solver tries to achieve on each\n",
      "            mesh interval ``norm(r / (1 + abs(f)) < tol``, where ``norm`` is\n",
      "            estimated in a root mean squared sense (using a numerical quadrature\n",
      "            formula). Default is 1e-3.\n",
      "        max_nodes : int, optional\n",
      "            Maximum allowed number of the mesh nodes. If exceeded, the algorithm\n",
      "            terminates. Default is 1000.\n",
      "        verbose : {0, 1, 2}, optional\n",
      "            Level of algorithm's verbosity:\n",
      "        \n",
      "                * 0 (default) : work silently.\n",
      "                * 1 : display a termination report.\n",
      "                * 2 : display progress during iterations.\n",
      "        \n",
      "        Returns\n",
      "        -------\n",
      "        Bunch object with the following fields defined:\n",
      "        sol : PPoly\n",
      "            Found solution for y as `scipy.interpolate.PPoly` instance, a C1\n",
      "            continuous cubic spline.\n",
      "        p : ndarray or None, shape (k,)\n",
      "            Found parameters. None, if the parameters were not present in the\n",
      "            problem.\n",
      "        x : ndarray, shape (m,)\n",
      "            Nodes of the final mesh.\n",
      "        y : ndarray, shape (n, m)\n",
      "            Solution values at the mesh nodes.\n",
      "        yp : ndarray, shape (n, m)\n",
      "            Solution derivatives at the mesh nodes.\n",
      "        rms_residuals : ndarray, shape (m - 1,)\n",
      "            RMS values of the relative residuals over each mesh interval (see the\n",
      "            description of `tol` parameter).\n",
      "        niter : int\n",
      "            Number of completed iterations.\n",
      "        status : int\n",
      "            Reason for algorithm termination:\n",
      "        \n",
      "                * 0: The algorithm converged to the desired accuracy.\n",
      "                * 1: The maximum number of mesh nodes is exceeded.\n",
      "                * 2: A singular Jacobian encountered when solving the collocation\n",
      "                  system.\n",
      "        \n",
      "        message : string\n",
      "            Verbal description of the termination reason.\n",
      "        success : bool\n",
      "            True if the algorithm converged to the desired accuracy (``status=0``).\n",
      "        \n",
      "        Notes\n",
      "        -----\n",
      "        This function implements a 4-th order collocation algorithm with the\n",
      "        control of residuals similar to [1]_. A collocation system is solved\n",
      "        by a damped Newton method with an affine-invariant criterion function as\n",
      "        described in [3]_.\n",
      "        \n",
      "        Note that in [1]_  integral residuals are defined without normalization\n",
      "        by interval lengths. So their definition is different by a multiplier of\n",
      "        h**0.5 (h is an interval length) from the definition used here.\n",
      "        \n",
      "        .. versionadded:: 0.18.0\n",
      "        \n",
      "        References\n",
      "        ----------\n",
      "        .. [1] J. Kierzenka, L. F. Shampine, \"A BVP Solver Based on Residual\n",
      "               Control and the Maltab PSE\", ACM Trans. Math. Softw., Vol. 27,\n",
      "               Number 3, pp. 299-316, 2001.\n",
      "        .. [2] L.F. Shampine, P. H. Muir and H. Xu, \"A User-Friendly Fortran BVP\n",
      "               Solver\".\n",
      "        .. [3] U. Ascher, R. Mattheij and R. Russell \"Numerical Solution of\n",
      "               Boundary Value Problems for Ordinary Differential Equations\".\n",
      "        .. [4] `Cauchy-Riemann equations\n",
      "                <https://en.wikipedia.org/wiki/Cauchy-Riemann_equations>`_ on\n",
      "                Wikipedia.\n",
      "        \n",
      "        Examples\n",
      "        --------\n",
      "        In the first example we solve Bratu's problem::\n",
      "        \n",
      "            y'' + k * exp(y) = 0\n",
      "            y(0) = y(1) = 0\n",
      "        \n",
      "        for k = 1.\n",
      "        \n",
      "        We rewrite the equation as a first order system and implement its\n",
      "        right-hand side evaluation::\n",
      "        \n",
      "            y1' = y2\n",
      "            y2' = -exp(y1)\n",
      "        \n",
      "        >>> def fun(x, y):\n",
      "        ...     return np.vstack((y[1], -np.exp(y[0])))\n",
      "        \n",
      "        Implement evaluation of the boundary condition residuals:\n",
      "        \n",
      "        >>> def bc(ya, yb):\n",
      "        ...     return np.array([ya[0], yb[0]])\n",
      "        \n",
      "        Define the initial mesh with 5 nodes:\n",
      "        \n",
      "        >>> x = np.linspace(0, 1, 5)\n",
      "        \n",
      "        This problem is known to have two solutions. To obtain both of them we\n",
      "        use two different initial guesses for y. We denote them by subscripts\n",
      "        a and b.\n",
      "        \n",
      "        >>> y_a = np.zeros((2, x.size))\n",
      "        >>> y_b = np.zeros((2, x.size))\n",
      "        >>> y_b[0] = 3\n",
      "        \n",
      "        Now we are ready to run the solver.\n",
      "        \n",
      "        >>> from scipy.integrate import solve_bvp\n",
      "        >>> res_a = solve_bvp(fun, bc, x, y_a)\n",
      "        >>> res_b = solve_bvp(fun, bc, x, y_b)\n",
      "        \n",
      "        Let's plot the two found solutions. We take an advantage of having the\n",
      "        solution in a spline form to produce a smooth plot.\n",
      "        \n",
      "        >>> x_plot = np.linspace(0, 1, 100)\n",
      "        >>> y_plot_a = res_a.sol(x_plot)[0]\n",
      "        >>> y_plot_b = res_b.sol(x_plot)[0]\n",
      "        >>> import matplotlib.pyplot as plt\n",
      "        >>> plt.plot(x_plot, y_plot_a, label='y_a')\n",
      "        >>> plt.plot(x_plot, y_plot_b, label='y_b')\n",
      "        >>> plt.legend()\n",
      "        >>> plt.xlabel(\"x\")\n",
      "        >>> plt.ylabel(\"y\")\n",
      "        >>> plt.show()\n",
      "        \n",
      "        We see that the two solutions have similar shape, but differ in scale\n",
      "        significantly.\n",
      "        \n",
      "        In the second example we solve a simple Sturm-Liouville problem::\n",
      "        \n",
      "            y'' + k**2 * y = 0\n",
      "            y(0) = y(1) = 0\n",
      "        \n",
      "        It is known that a non-trivial solution y = A * sin(k * x) is possible for\n",
      "        k = pi * n, where n is an integer. To establish the normalization constant\n",
      "        A = 1 we add a boundary condition::\n",
      "        \n",
      "            y'(0) = k\n",
      "        \n",
      "        Again we rewrite our equation as a first order system and implement its\n",
      "        right-hand side evaluation::\n",
      "        \n",
      "            y1' = y2\n",
      "            y2' = -k**2 * y1\n",
      "        \n",
      "        >>> def fun(x, y, p):\n",
      "        ...     k = p[0]\n",
      "        ...     return np.vstack((y[1], -k**2 * y[0]))\n",
      "        \n",
      "        Note that parameters p are passed as a vector (with one element in our\n",
      "        case).\n",
      "        \n",
      "        Implement the boundary conditions:\n",
      "        \n",
      "        >>> def bc(ya, yb, p):\n",
      "        ...     k = p[0]\n",
      "        ...     return np.array([ya[0], yb[0], ya[1] - k])\n",
      "        \n",
      "        Setup the initial mesh and guess for y. We aim to find the solution for\n",
      "        k = 2 * pi, to achieve that we set values of y to approximately follow\n",
      "        sin(2 * pi * x):\n",
      "        \n",
      "        >>> x = np.linspace(0, 1, 5)\n",
      "        >>> y = np.zeros((2, x.size))\n",
      "        >>> y[0, 1] = 1\n",
      "        >>> y[0, 3] = -1\n",
      "        \n",
      "        Run the solver with 6 as an initial guess for k.\n",
      "        \n",
      "        >>> sol = solve_bvp(fun, bc, x, y, p=[6])\n",
      "        \n",
      "        We see that the found k is approximately correct:\n",
      "        \n",
      "        >>> sol.p[0]\n",
      "        6.28329460046\n",
      "        \n",
      "        And finally plot the solution to see the anticipated sinusoid:\n",
      "        \n",
      "        >>> x_plot = np.linspace(0, 1, 100)\n",
      "        >>> y_plot = sol.sol(x_plot)[0]\n",
      "        >>> plt.plot(x_plot, y_plot)\n",
      "        >>> plt.xlabel(\"x\")\n",
      "        >>> plt.ylabel(\"y\")\n",
      "        >>> plt.show()\n",
      "    \n",
      "    tplquad(func, a, b, gfun, hfun, qfun, rfun, args=(), epsabs=1.49e-08, epsrel=1.49e-08)\n",
      "        Compute a triple (definite) integral.\n",
      "        \n",
      "        Return the triple integral of ``func(z, y, x)`` from ``x = a..b``,\n",
      "        ``y = gfun(x)..hfun(x)``, and ``z = qfun(x,y)..rfun(x,y)``.\n",
      "        \n",
      "        Parameters\n",
      "        ----------\n",
      "        func : function\n",
      "            A Python function or method of at least three variables in the\n",
      "            order (z, y, x).\n",
      "        a, b : float\n",
      "            The limits of integration in x: `a` < `b`\n",
      "        gfun : function\n",
      "            The lower boundary curve in y which is a function taking a single\n",
      "            floating point argument (x) and returning a floating point result:\n",
      "            a lambda function can be useful here.\n",
      "        hfun : function\n",
      "            The upper boundary curve in y (same requirements as `gfun`).\n",
      "        qfun : function\n",
      "            The lower boundary surface in z.  It must be a function that takes\n",
      "            two floats in the order (x, y) and returns a float.\n",
      "        rfun : function\n",
      "            The upper boundary surface in z. (Same requirements as `qfun`.)\n",
      "        args : tuple, optional\n",
      "            Extra arguments to pass to `func`.\n",
      "        epsabs : float, optional\n",
      "            Absolute tolerance passed directly to the innermost 1-D quadrature\n",
      "            integration. Default is 1.49e-8.\n",
      "        epsrel : float, optional\n",
      "            Relative tolerance of the innermost 1-D integrals. Default is 1.49e-8.\n",
      "        \n",
      "        Returns\n",
      "        -------\n",
      "        y : float\n",
      "            The resultant integral.\n",
      "        abserr : float\n",
      "            An estimate of the error.\n",
      "        \n",
      "        See Also\n",
      "        --------\n",
      "        quad: Adaptive quadrature using QUADPACK\n",
      "        quadrature: Adaptive Gaussian quadrature\n",
      "        fixed_quad: Fixed-order Gaussian quadrature\n",
      "        dblquad: Double integrals\n",
      "        nquad : N-dimensional integrals\n",
      "        romb: Integrators for sampled data\n",
      "        simps: Integrators for sampled data\n",
      "        ode: ODE integrators\n",
      "        odeint: ODE integrators\n",
      "        scipy.special: For coefficients and roots of orthogonal polynomials\n",
      "    \n",
      "    trapz(y, x=None, dx=1.0, axis=-1)\n",
      "        Integrate along the given axis using the composite trapezoidal rule.\n",
      "        \n",
      "        Integrate `y` (`x`) along given axis.\n",
      "        \n",
      "        Parameters\n",
      "        ----------\n",
      "        y : array_like\n",
      "            Input array to integrate.\n",
      "        x : array_like, optional\n",
      "            The sample points corresponding to the `y` values. If `x` is None,\n",
      "            the sample points are assumed to be evenly spaced `dx` apart. The\n",
      "            default is None.\n",
      "        dx : scalar, optional\n",
      "            The spacing between sample points when `x` is None. The default is 1.\n",
      "        axis : int, optional\n",
      "            The axis along which to integrate.\n",
      "        \n",
      "        Returns\n",
      "        -------\n",
      "        trapz : float\n",
      "            Definite integral as approximated by trapezoidal rule.\n",
      "        \n",
      "        See Also\n",
      "        --------\n",
      "        sum, cumsum\n",
      "        \n",
      "        Notes\n",
      "        -----\n",
      "        Image [2]_ illustrates trapezoidal rule -- y-axis locations of points\n",
      "        will be taken from `y` array, by default x-axis distances between\n",
      "        points will be 1.0, alternatively they can be provided with `x` array\n",
      "        or with `dx` scalar.  Return value will be equal to combined area under\n",
      "        the red lines.\n",
      "        \n",
      "        \n",
      "        References\n",
      "        ----------\n",
      "        .. [1] Wikipedia page: http://en.wikipedia.org/wiki/Trapezoidal_rule\n",
      "        \n",
      "        .. [2] Illustration image:\n",
      "               http://en.wikipedia.org/wiki/File:Composite_trapezoidal_rule_illustration.png\n",
      "        \n",
      "        Examples\n",
      "        --------\n",
      "        >>> np.trapz([1,2,3])\n",
      "        4.0\n",
      "        >>> np.trapz([1,2,3], x=[4,6,8])\n",
      "        8.0\n",
      "        >>> np.trapz([1,2,3], dx=2)\n",
      "        8.0\n",
      "        >>> a = np.arange(6).reshape(2, 3)\n",
      "        >>> a\n",
      "        array([[0, 1, 2],\n",
      "               [3, 4, 5]])\n",
      "        >>> np.trapz(a, axis=0)\n",
      "        array([ 1.5,  2.5,  3.5])\n",
      "        >>> np.trapz(a, axis=1)\n",
      "        array([ 2.,  8.])\n",
      "\n",
      "DATA\n",
      "    __all__ = ['IntegrationWarning', 'absolute_import', 'complex_ode', 'cu...\n",
      "    absolute_import = _Feature((2, 5, 0, 'alpha', 1), (3, 0, 0, 'alpha', 0...\n",
      "    division = _Feature((2, 2, 0, 'alpha', 2), (3, 0, 0, 'alpha', 0), 8192...\n",
      "    print_function = _Feature((2, 6, 0, 'alpha', 2), (3, 0, 0, 'alpha', 0)...\n",
      "\n",
      "FILE\n",
      "    /home/zingale/.local/lib/python3.5/site-packages/scipy/integrate/__init__.py\n",
      "\n",
      "\n"
     ]
    }
   ],
   "source": [
    "from scipy import integrate\n",
    "help(integrate)"
   ]
  },
  {
   "cell_type": "markdown",
   "metadata": {
    "deletable": true,
    "editable": true
   },
   "source": [
    "quad is the basic integrator for a general (not sampled) function.  It uses a general-interface from the Fortran package QUADPACK (QAGS or QAGI).  It will return the integral in an interval and an estimate of the error in the approximation"
   ]
  },
  {
   "cell_type": "code",
   "execution_count": 4,
   "metadata": {
    "collapsed": false,
    "deletable": true,
    "editable": true
   },
   "outputs": [],
   "source": [
    "def f(x):\n",
    "    return np.sin(x)**2"
   ]
  },
  {
   "cell_type": "code",
   "execution_count": 5,
   "metadata": {
    "collapsed": false,
    "deletable": true,
    "editable": true
   },
   "outputs": [
    {
     "name": "stdout",
     "output_type": "stream",
     "text": [
      "3.141592653589793\n",
      "2.3058791671639882e-09\n"
     ]
    }
   ],
   "source": [
    "I, err = integrate.quad(f, 0.0, 2.0*np.pi, epsabs=1.e-14)\n",
    "print(I)\n",
    "print(err)"
   ]
  },
  {
   "cell_type": "code",
   "execution_count": 6,
   "metadata": {
    "collapsed": false,
    "deletable": true,
    "editable": true
   },
   "outputs": [
    {
     "name": "stdout",
     "output_type": "stream",
     "text": [
      "Help on function quad in module scipy.integrate.quadpack:\n",
      "\n",
      "quad(func, a, b, args=(), full_output=0, epsabs=1.49e-08, epsrel=1.49e-08, limit=50, points=None, weight=None, wvar=None, wopts=None, maxp1=50, limlst=50)\n",
      "    Compute a definite integral.\n",
      "    \n",
      "    Integrate func from `a` to `b` (possibly infinite interval) using a\n",
      "    technique from the Fortran library QUADPACK.\n",
      "    \n",
      "    Parameters\n",
      "    ----------\n",
      "    func : function\n",
      "        A Python function or method to integrate.  If `func` takes many\n",
      "        arguments, it is integrated along the axis corresponding to the\n",
      "        first argument.\n",
      "        If the user desires improved integration performance, then f may\n",
      "        instead be a ``ctypes`` function of the form:\n",
      "    \n",
      "            f(int n, double args[n]),\n",
      "    \n",
      "        where ``args`` is an array of function arguments and ``n`` is the\n",
      "        length of ``args``. ``f.argtypes`` should be set to\n",
      "        ``(c_int, c_double)``, and ``f.restype`` should be ``(c_double,)``.\n",
      "    a : float\n",
      "        Lower limit of integration (use -numpy.inf for -infinity).\n",
      "    b : float\n",
      "        Upper limit of integration (use numpy.inf for +infinity).\n",
      "    args : tuple, optional\n",
      "        Extra arguments to pass to `func`.\n",
      "    full_output : int, optional\n",
      "        Non-zero to return a dictionary of integration information.\n",
      "        If non-zero, warning messages are also suppressed and the\n",
      "        message is appended to the output tuple.\n",
      "    \n",
      "    Returns\n",
      "    -------\n",
      "    y : float\n",
      "        The integral of func from `a` to `b`.\n",
      "    abserr : float\n",
      "        An estimate of the absolute error in the result.\n",
      "    infodict : dict\n",
      "        A dictionary containing additional information.\n",
      "        Run scipy.integrate.quad_explain() for more information.\n",
      "    message\n",
      "        A convergence message.\n",
      "    explain\n",
      "        Appended only with 'cos' or 'sin' weighting and infinite\n",
      "        integration limits, it contains an explanation of the codes in\n",
      "        infodict['ierlst']\n",
      "    \n",
      "    Other Parameters\n",
      "    ----------------\n",
      "    epsabs : float or int, optional\n",
      "        Absolute error tolerance.\n",
      "    epsrel : float or int, optional\n",
      "        Relative error tolerance.\n",
      "    limit : float or int, optional\n",
      "        An upper bound on the number of subintervals used in the adaptive\n",
      "        algorithm.\n",
      "    points : (sequence of floats,ints), optional\n",
      "        A sequence of break points in the bounded integration interval\n",
      "        where local difficulties of the integrand may occur (e.g.,\n",
      "        singularities, discontinuities). The sequence does not have\n",
      "        to be sorted.\n",
      "    weight : float or int, optional\n",
      "        String indicating weighting function. Full explanation for this\n",
      "        and the remaining arguments can be found below.\n",
      "    wvar : optional\n",
      "        Variables for use with weighting functions.\n",
      "    wopts : optional\n",
      "        Optional input for reusing Chebyshev moments.\n",
      "    maxp1 : float or int, optional\n",
      "        An upper bound on the number of Chebyshev moments.\n",
      "    limlst : int, optional\n",
      "        Upper bound on the number of cycles (>=3) for use with a sinusoidal\n",
      "        weighting and an infinite end-point.\n",
      "    \n",
      "    See Also\n",
      "    --------\n",
      "    dblquad : double integral\n",
      "    tplquad : triple integral\n",
      "    nquad : n-dimensional integrals (uses `quad` recursively)\n",
      "    fixed_quad : fixed-order Gaussian quadrature\n",
      "    quadrature : adaptive Gaussian quadrature\n",
      "    odeint : ODE integrator\n",
      "    ode : ODE integrator\n",
      "    simps : integrator for sampled data\n",
      "    romb : integrator for sampled data\n",
      "    scipy.special : for coefficients and roots of orthogonal polynomials\n",
      "    \n",
      "    Notes\n",
      "    -----\n",
      "    \n",
      "    **Extra information for quad() inputs and outputs**\n",
      "    \n",
      "    If full_output is non-zero, then the third output argument\n",
      "    (infodict) is a dictionary with entries as tabulated below.  For\n",
      "    infinite limits, the range is transformed to (0,1) and the\n",
      "    optional outputs are given with respect to this transformed range.\n",
      "    Let M be the input argument limit and let K be infodict['last'].\n",
      "    The entries are:\n",
      "    \n",
      "    'neval'\n",
      "        The number of function evaluations.\n",
      "    'last'\n",
      "        The number, K, of subintervals produced in the subdivision process.\n",
      "    'alist'\n",
      "        A rank-1 array of length M, the first K elements of which are the\n",
      "        left end points of the subintervals in the partition of the\n",
      "        integration range.\n",
      "    'blist'\n",
      "        A rank-1 array of length M, the first K elements of which are the\n",
      "        right end points of the subintervals.\n",
      "    'rlist'\n",
      "        A rank-1 array of length M, the first K elements of which are the\n",
      "        integral approximations on the subintervals.\n",
      "    'elist'\n",
      "        A rank-1 array of length M, the first K elements of which are the\n",
      "        moduli of the absolute error estimates on the subintervals.\n",
      "    'iord'\n",
      "        A rank-1 integer array of length M, the first L elements of\n",
      "        which are pointers to the error estimates over the subintervals\n",
      "        with ``L=K`` if ``K<=M/2+2`` or ``L=M+1-K`` otherwise. Let I be the\n",
      "        sequence ``infodict['iord']`` and let E be the sequence\n",
      "        ``infodict['elist']``.  Then ``E[I[1]], ..., E[I[L]]`` forms a\n",
      "        decreasing sequence.\n",
      "    \n",
      "    If the input argument points is provided (i.e. it is not None),\n",
      "    the following additional outputs are placed in the output\n",
      "    dictionary.  Assume the points sequence is of length P.\n",
      "    \n",
      "    'pts'\n",
      "        A rank-1 array of length P+2 containing the integration limits\n",
      "        and the break points of the intervals in ascending order.\n",
      "        This is an array giving the subintervals over which integration\n",
      "        will occur.\n",
      "    'level'\n",
      "        A rank-1 integer array of length M (=limit), containing the\n",
      "        subdivision levels of the subintervals, i.e., if (aa,bb) is a\n",
      "        subinterval of ``(pts[1], pts[2])`` where ``pts[0]`` and ``pts[2]``\n",
      "        are adjacent elements of ``infodict['pts']``, then (aa,bb) has level l\n",
      "        if ``|bb-aa| = |pts[2]-pts[1]| * 2**(-l)``.\n",
      "    'ndin'\n",
      "        A rank-1 integer array of length P+2.  After the first integration\n",
      "        over the intervals (pts[1], pts[2]), the error estimates over some\n",
      "        of the intervals may have been increased artificially in order to\n",
      "        put their subdivision forward.  This array has ones in slots\n",
      "        corresponding to the subintervals for which this happens.\n",
      "    \n",
      "    **Weighting the integrand**\n",
      "    \n",
      "    The input variables, *weight* and *wvar*, are used to weight the\n",
      "    integrand by a select list of functions.  Different integration\n",
      "    methods are used to compute the integral with these weighting\n",
      "    functions.  The possible values of weight and the corresponding\n",
      "    weighting functions are.\n",
      "    \n",
      "    ==========  ===================================   =====================\n",
      "    ``weight``  Weight function used                  ``wvar``\n",
      "    ==========  ===================================   =====================\n",
      "    'cos'       cos(w*x)                              wvar = w\n",
      "    'sin'       sin(w*x)                              wvar = w\n",
      "    'alg'       g(x) = ((x-a)**alpha)*((b-x)**beta)   wvar = (alpha, beta)\n",
      "    'alg-loga'  g(x)*log(x-a)                         wvar = (alpha, beta)\n",
      "    'alg-logb'  g(x)*log(b-x)                         wvar = (alpha, beta)\n",
      "    'alg-log'   g(x)*log(x-a)*log(b-x)                wvar = (alpha, beta)\n",
      "    'cauchy'    1/(x-c)                               wvar = c\n",
      "    ==========  ===================================   =====================\n",
      "    \n",
      "    wvar holds the parameter w, (alpha, beta), or c depending on the weight\n",
      "    selected.  In these expressions, a and b are the integration limits.\n",
      "    \n",
      "    For the 'cos' and 'sin' weighting, additional inputs and outputs are\n",
      "    available.\n",
      "    \n",
      "    For finite integration limits, the integration is performed using a\n",
      "    Clenshaw-Curtis method which uses Chebyshev moments.  For repeated\n",
      "    calculations, these moments are saved in the output dictionary:\n",
      "    \n",
      "    'momcom'\n",
      "        The maximum level of Chebyshev moments that have been computed,\n",
      "        i.e., if ``M_c`` is ``infodict['momcom']`` then the moments have been\n",
      "        computed for intervals of length ``|b-a| * 2**(-l)``,\n",
      "        ``l=0,1,...,M_c``.\n",
      "    'nnlog'\n",
      "        A rank-1 integer array of length M(=limit), containing the\n",
      "        subdivision levels of the subintervals, i.e., an element of this\n",
      "        array is equal to l if the corresponding subinterval is\n",
      "        ``|b-a|* 2**(-l)``.\n",
      "    'chebmo'\n",
      "        A rank-2 array of shape (25, maxp1) containing the computed\n",
      "        Chebyshev moments.  These can be passed on to an integration\n",
      "        over the same interval by passing this array as the second\n",
      "        element of the sequence wopts and passing infodict['momcom'] as\n",
      "        the first element.\n",
      "    \n",
      "    If one of the integration limits is infinite, then a Fourier integral is\n",
      "    computed (assuming w neq 0).  If full_output is 1 and a numerical error\n",
      "    is encountered, besides the error message attached to the output tuple,\n",
      "    a dictionary is also appended to the output tuple which translates the\n",
      "    error codes in the array ``info['ierlst']`` to English messages.  The\n",
      "    output information dictionary contains the following entries instead of\n",
      "    'last', 'alist', 'blist', 'rlist', and 'elist':\n",
      "    \n",
      "    'lst'\n",
      "        The number of subintervals needed for the integration (call it ``K_f``).\n",
      "    'rslst'\n",
      "        A rank-1 array of length M_f=limlst, whose first ``K_f`` elements\n",
      "        contain the integral contribution over the interval\n",
      "        ``(a+(k-1)c, a+kc)`` where ``c = (2*floor(|w|) + 1) * pi / |w|``\n",
      "        and ``k=1,2,...,K_f``.\n",
      "    'erlst'\n",
      "        A rank-1 array of length ``M_f`` containing the error estimate\n",
      "        corresponding to the interval in the same position in\n",
      "        ``infodict['rslist']``.\n",
      "    'ierlst'\n",
      "        A rank-1 integer array of length ``M_f`` containing an error flag\n",
      "        corresponding to the interval in the same position in\n",
      "        ``infodict['rslist']``.  See the explanation dictionary (last entry\n",
      "        in the output tuple) for the meaning of the codes.\n",
      "    \n",
      "    Examples\n",
      "    --------\n",
      "    Calculate :math:`\\int^4_0 x^2 dx` and compare with an analytic result\n",
      "    \n",
      "    >>> from scipy import integrate\n",
      "    >>> x2 = lambda x: x**2\n",
      "    >>> integrate.quad(x2, 0, 4)\n",
      "    (21.333333333333332, 2.3684757858670003e-13)\n",
      "    >>> print(4**3 / 3.)  # analytical result\n",
      "    21.3333333333\n",
      "    \n",
      "    Calculate :math:`\\int^\\infty_0 e^{-x} dx`\n",
      "    \n",
      "    >>> invexp = lambda x: np.exp(-x)\n",
      "    >>> integrate.quad(invexp, 0, np.inf)\n",
      "    (1.0, 5.842605999138044e-11)\n",
      "    \n",
      "    >>> f = lambda x,a : a*x\n",
      "    >>> y, err = integrate.quad(f, 0, 1, args=(1,))\n",
      "    >>> y\n",
      "    0.5\n",
      "    >>> y, err = integrate.quad(f, 0, 1, args=(3,))\n",
      "    >>> y\n",
      "    1.5\n",
      "    \n",
      "    Calculate :math:`\\int^1_0 x^2 + y^2 dx` with ctypes, holding\n",
      "    y parameter as 1::\n",
      "    \n",
      "        testlib.c =>\n",
      "            double func(int n, double args[n]){\n",
      "                return args[0]*args[0] + args[1]*args[1];}\n",
      "        compile to library testlib.*\n",
      "    \n",
      "    ::\n",
      "    \n",
      "       from scipy import integrate\n",
      "       import ctypes\n",
      "       lib = ctypes.CDLL('/home/.../testlib.*') #use absolute path\n",
      "       lib.func.restype = ctypes.c_double\n",
      "       lib.func.argtypes = (ctypes.c_int,ctypes.c_double)\n",
      "       integrate.quad(lib.func,0,1,(1))\n",
      "       #(1.3333333333333333, 1.4802973661668752e-14)\n",
      "       print((1.0**3/3.0 + 1.0) - (0.0**3/3.0 + 0.0)) #Analytic result\n",
      "       # 1.3333333333333333\n",
      "\n"
     ]
    }
   ],
   "source": [
    "help(integrate.quad)"
   ]
  },
  {
   "cell_type": "markdown",
   "metadata": {
    "deletable": true,
    "editable": true
   },
   "source": [
    "sometimes our integrand function takes optional arguments"
   ]
  },
  {
   "cell_type": "code",
   "execution_count": 7,
   "metadata": {
    "collapsed": false,
    "deletable": true,
    "editable": true
   },
   "outputs": [],
   "source": [
    "def g(x, A, sigma):\n",
    "    return A*np.exp(-x**2/sigma**2)"
   ]
  },
  {
   "cell_type": "code",
   "execution_count": 8,
   "metadata": {
    "collapsed": false,
    "deletable": true,
    "editable": true
   },
   "outputs": [
    {
     "name": "stdout",
     "output_type": "stream",
     "text": [
      "1.8451240256511698 2.0484991765669867e-14\n"
     ]
    }
   ],
   "source": [
    "I, err = integrate.quad(g, -1.0, 1.0, args=(1.0, 2.0))\n",
    "print(I, err)"
   ]
  },
  {
   "cell_type": "markdown",
   "metadata": {
    "deletable": true,
    "editable": true
   },
   "source": [
    "numpy defines the inf quantity which can be used in the integration limits.  We can integrate a Gaussian (we know the answer is sqrt(pi)\n",
    "\n",
    "Note: behind the scenes, what the integration function does is do a variable transform like: $t = 1/x$.  This works when one limit is $\\infty$, giving\n",
    "\n",
    "$$\\int_a^b f(x) dx = \\int_{1/b}^{1/a} \\frac{1}{t^2} f\\left (\\frac{1}{t}\\right) dt$$"
   ]
  },
  {
   "cell_type": "code",
   "execution_count": 9,
   "metadata": {
    "collapsed": false,
    "deletable": true,
    "editable": true
   },
   "outputs": [
    {
     "name": "stdout",
     "output_type": "stream",
     "text": [
      "1.7724538509055159 1.4202636780944923e-08\n"
     ]
    }
   ],
   "source": [
    "I, err = integrate.quad(g, -np.inf, np.inf, args=(1.0, 1.0))\n",
    "print(I, err)"
   ]
  },
  {
   "cell_type": "markdown",
   "metadata": {
    "deletable": true,
    "editable": true
   },
   "source": [
    "### integration of a sampled function"
   ]
  },
  {
   "cell_type": "markdown",
   "metadata": {
    "deletable": true,
    "editable": true
   },
   "source": [
    "here we integrate a function that is defined only at a sequece of points.  Recall that Simpson's rule will use piecewise parabola data.  Let's compute\n",
    "\n",
    "$$I = \\int_0^{2\\pi} f(x_i) dx$$\n",
    "\n",
    "with $x_i = 0, \\ldots, 2\\pi$ defined at $N$ points"
   ]
  },
  {
   "cell_type": "code",
   "execution_count": 12,
   "metadata": {
    "collapsed": false,
    "deletable": true,
    "editable": true
   },
   "outputs": [
    {
     "name": "stdout",
     "output_type": "stream",
     "text": [
      "3.14159265359\n"
     ]
    }
   ],
   "source": [
    "N = 17\n",
    "x = np.linspace(0.0, 2.0*np.pi, N, endpoint=True)\n",
    "y = np.sin(x)**2\n",
    "\n",
    "I = integrate.simps(y, x)\n",
    "print(I)"
   ]
  },
  {
   "cell_type": "markdown",
   "metadata": {
    "deletable": true,
    "editable": true
   },
   "source": [
    "Romberg integration is specific to equally-spaced samples, where $N = 2^k + 1$  and can be more converge faster (it uses extrapolation of coarser integration results to achieve higher accuracy)"
   ]
  },
  {
   "cell_type": "code",
   "execution_count": 13,
   "metadata": {
    "collapsed": false,
    "deletable": true,
    "editable": true
   },
   "outputs": [
    {
     "name": "stdout",
     "output_type": "stream",
     "text": [
      "3.14306583533\n"
     ]
    }
   ],
   "source": [
    "N = 17\n",
    "x = np.linspace(0.0, 2.0*np.pi, N, endpoint=True)\n",
    "y = np.sin(x)**2\n",
    "\n",
    "I = integrate.romb(y, dx=x[1]-x[0])\n",
    "print(I)"
   ]
  },
  {
   "cell_type": "markdown",
   "metadata": {
    "deletable": true,
    "editable": true
   },
   "source": [
    "# Root Finding"
   ]
  },
  {
   "cell_type": "markdown",
   "metadata": {
    "deletable": true,
    "editable": true
   },
   "source": [
    "Often we need to find a value of a variable that zeros a function -- this is _root finding_.  Sometimes, this is a multidimensional problem."
   ]
  },
  {
   "cell_type": "markdown",
   "metadata": {
    "deletable": true,
    "editable": true
   },
   "source": [
    "The `brentq()` routine offers a very robust method for find roots from a scalar function.  You do need to provide an interval that bounds the root."
   ]
  },
  {
   "cell_type": "markdown",
   "metadata": {
    "deletable": true,
    "editable": true
   },
   "source": [
    "$f(x) = \\frac{x e^x}{e^x - 1} - 5$"
   ]
  },
  {
   "cell_type": "code",
   "execution_count": 26,
   "metadata": {
    "collapsed": false,
    "deletable": true,
    "editable": true
   },
   "outputs": [
    {
     "name": "stdout",
     "output_type": "stream",
     "text": [
      "4.965114231744287\n",
      "True\n"
     ]
    }
   ],
   "source": [
    "import scipy.optimize as optimize\n",
    "\n",
    "def f(x):\n",
    "    # this is the non-linear equation that comes up in deriving Wien's law for radiation\n",
    "    return (x*np.exp(x)/(np.exp(x) - 1.0) - 5.0)\n",
    "\n",
    "root, r = optimize.brentq(f, 0.1, 10.0, full_output=True)\n",
    "\n",
    "print(root)\n",
    "print(r.converged)"
   ]
  },
  {
   "cell_type": "code",
   "execution_count": 27,
   "metadata": {
    "collapsed": false,
    "deletable": true,
    "editable": true
   },
   "outputs": [
    {
     "data": {
      "text/plain": [
       "[<matplotlib.lines.Line2D at 0x7f060559fcf8>]"
      ]
     },
     "execution_count": 27,
     "metadata": {},
     "output_type": "execute_result"
    },
    {
     "data": {
      "image/png": "[encoded data removed]",
      "text/plain": [
       "<matplotlib.figure.Figure at 0x7f060559f4e0>"
      ]
     },
     "metadata": {},
     "output_type": "display_data"
    }
   ],
   "source": [
    "x = np.linspace(0.1, 10.0, 1000)\n",
    "plt.plot(x, f(x))\n",
    "plt.plot(np.array([root]), np.array([f(root)]), 'ro')"
   ]
  },
  {
   "cell_type": "markdown",
   "metadata": {
    "deletable": true,
    "editable": true
   },
   "source": [
    "# ODEs"
   ]
  },
  {
   "cell_type": "markdown",
   "metadata": {
    "deletable": true,
    "editable": true
   },
   "source": [
    "Many methods exist for integrating ordinary differential equations.  Most will want you to write your ODEs as a system of first order equations."
   ]
  },
  {
   "cell_type": "markdown",
   "metadata": {
    "deletable": true,
    "editable": true
   },
   "source": [
    "This system of ODEs is the Lorenz system:\n",
    "\n",
    "$$\\frac{dx}{dt} = \\sigma (y - x)$$\n",
    "$$\\frac{dy}{dt} = rx - y - xz$$\n",
    "$$\\frac{dz}{dt} = xy - bz$$\n",
    "\n",
    "the steady states of this system correspond to:\n",
    "\n",
    "$${\\bf f}({\\bf x}) = \n",
    "\\left (\n",
    "\\sigma (y -x), \n",
    "rx - y -xz, \n",
    "xy - bz\n",
    "\\right )^\\intercal\n",
    "= 0$$\n"
   ]
  },
  {
   "cell_type": "code",
   "execution_count": 28,
   "metadata": {
    "collapsed": false,
    "deletable": true,
    "editable": true
   },
   "outputs": [],
   "source": [
    "# system parameters\n",
    "sigma = 10.0\n",
    "b = 8./3.\n",
    "r = 28.0\n",
    "\n",
    "def rhs(t, x):\n",
    "    xdot = sigma*(x[1] - x[0])\n",
    "    ydot = r*x[0] - x[1] - x[0]*x[2]\n",
    "    zdot = x[0]*x[1] - b*x[2]\n",
    "\n",
    "    return np.array([xdot, ydot, zdot])\n",
    "\n",
    "\n",
    "def jac(t, x):\n",
    "\n",
    "    return np.array(\n",
    "        [ [-sigma, sigma, 0.0], \n",
    "          [r - x[2], -1.0, -x[0]],\n",
    "          [x[1], x[0], -b] ])\n",
    "\n",
    "\n",
    "def f(x):\n",
    "    return rhs(0.,x), jac(0.,x)\n",
    "\n"
   ]
  },
  {
   "cell_type": "markdown",
   "metadata": {
    "deletable": true,
    "editable": true
   },
   "source": [
    "This class stores the integrated solution in a simple datatype"
   ]
  },
  {
   "cell_type": "code",
   "execution_count": 29,
   "metadata": {
    "collapsed": false,
    "deletable": true,
    "editable": true
   },
   "outputs": [],
   "source": [
    "class IntHistory(object):\n",
    "    \"\"\" a simple container to store the integrated history \"\"\"\n",
    "    \n",
    "    def __init__(self, t=None, x=None, y=None, z=None):\n",
    "        self.t = np.array(t)\n",
    "        self.x = np.array(x)\n",
    "        self.y = np.array(y)\n",
    "        self.z = np.array(z)\n"
   ]
  },
  {
   "cell_type": "code",
   "execution_count": 30,
   "metadata": {
    "collapsed": false,
    "deletable": true,
    "editable": true
   },
   "outputs": [],
   "source": [
    "def ode_integrate(X0, dt, tmax):\n",
    "    \"\"\" integrate using the VODE method, storing the solution each dt \"\"\"\n",
    "\n",
    "    r = integrate.ode(rhs, jac).set_integrator(\"vode\", method=\"adams\",\n",
    "                                               with_jacobian=True,\n",
    "                                               atol=1.e-10, rtol=1.e-10,\n",
    "                                               nsteps = 15000, order=12)\n",
    "\n",
    "    t = 0.0\n",
    "    r.set_initial_value(X0, t)\n",
    "\n",
    "    tout = [t]\n",
    "    x1out = [X0[0]]\n",
    "    x2out = [X0[1]]\n",
    "    x3out = [X0[2]]\n",
    "\n",
    "    while r.successful() and r.t < tmax:\n",
    "        r.integrate(r.t+dt)\n",
    "\n",
    "        tout.append(r.t)\n",
    "        x1out.append(r.y[0])\n",
    "        x2out.append(r.y[1])\n",
    "        x3out.append(r.y[2])\n",
    "\n",
    "\n",
    "    return IntHistory(np.array(tout), np.array(x1out), np.array(x2out), np.array(x3out))\n"
   ]
  },
  {
   "cell_type": "code",
   "execution_count": 31,
   "metadata": {
    "collapsed": false,
    "deletable": true,
    "editable": true
   },
   "outputs": [
    {
     "data": {
      "image/png": "[encoded data removed]",
      "text/plain": [
       "<matplotlib.figure.Figure at 0x7f06055f1ba8>"
      ]
     },
     "metadata": {},
     "output_type": "display_data"
    }
   ],
   "source": [
    "H1 = ode_integrate([1.0, 1.0, 20.0], 0.02, 30)\n",
    "\n",
    "from mpl_toolkits.mplot3d import Axes3D\n",
    "\n",
    "fig = plt.figure()\n",
    "ax = fig.gca(projection='3d')\n",
    "ax.plot(H1.x, H1.y, H1.z)\n",
    "fig.set_size_inches(8.0,6.0)"
   ]
  },
  {
   "cell_type": "markdown",
   "metadata": {
    "deletable": true,
    "editable": true
   },
   "source": [
    "### Multi-variate root find"
   ]
  },
  {
   "cell_type": "markdown",
   "metadata": {
    "deletable": true,
    "editable": true
   },
   "source": [
    "we can find the steady points in this system by doing a multi-variate root find on the RHS vector"
   ]
  },
  {
   "cell_type": "code",
   "execution_count": 32,
   "metadata": {
    "collapsed": false,
    "deletable": true,
    "editable": true
   },
   "outputs": [
    {
     "name": "stdout",
     "output_type": "stream",
     "text": [
      "[ 0.  0.  0.]\n",
      "[  8.48528137   8.48528137  27.        ]\n",
      "[ -8.48528137  -8.48528137  27.        ]\n"
     ]
    }
   ],
   "source": [
    "sol1 = optimize.root(f, [1., 1., 1.], jac=True)\n",
    "print(sol1.x)\n",
    "\n",
    "sol2 = optimize.root(f, [10., 10., 10.], jac=True)\n",
    "print(sol2.x)\n",
    "\n",
    "sol3 = optimize.root(f, [-10., -10., -10.], jac=True)\n",
    "print(sol3.x)"
   ]
  },
  {
   "cell_type": "code",
   "execution_count": 33,
   "metadata": {
    "collapsed": false,
    "deletable": true,
    "editable": true
   },
   "outputs": [
    {
     "data": {
      "text/plain": [
       "<matplotlib.text.Text at 0x7f060537e748>"
      ]
     },
     "execution_count": 33,
     "metadata": {},
     "output_type": "execute_result"
    },
    {
     "data": {
      "image/png": "[encoded data removed]",
      "text/plain": [
       "<matplotlib.figure.Figure at 0x7f06053ce390>"
      ]
     },
     "metadata": {},
     "output_type": "display_data"
    }
   ],
   "source": [
    "fig = plt.figure()\n",
    "ax = fig.gca(projection='3d')\n",
    "ax.plot(H1.x, H1.y, H1.z)\n",
    "\n",
    "ax.scatter(sol1.x[0], sol1.x[1], sol1.x[2], marker=\"x\", color=\"r\")\n",
    "ax.scatter(sol2.x[0], sol2.x[1], sol2.x[2], marker=\"x\", color=\"r\")\n",
    "ax.scatter(sol3.x[0], sol3.x[1], sol3.x[2], marker=\"x\", color=\"r\")\n",
    "\n",
    "ax.set_xlabel(\"x\")\n",
    "ax.set_ylabel(\"y\")\n",
    "ax.set_zlabel(\"z\")\n"
   ]
  },
  {
   "cell_type": "markdown",
   "metadata": {
    "deletable": true,
    "editable": true
   },
   "source": [
    "# Fitting\n",
    "\n",
    "Fitting is used to match a model to experimental data.  E.g. we have N points of $(x_i, y_i)$ with associated errors, $\\sigma_i$, and we want to find a simply function that best represents the data.\n",
    "\n",
    "Usually this means that we will need to define a metric, often called the residual, for how well our function matches the data, and then minimize this residual.  Least-squares fitting is a popular formulation.\n",
    "\n",
    "We want to fit our data to a function $Y(x, \\{a_j\\})$, where $a_j$ are model parameters we can adjust.  We want to find the optimal $a_j$ to minimize the distance of $Y$ from our data:\n",
    "$$\\Delta_i = Y(x_i, \\{a_j\\}) - y_i$$\n",
    "\n",
    "Least-squares minimizes $\\chi^2$:\n",
    "$$\\chi^2(\\{a_j\\}) = \\sum_{i=1}^N \\left ( \\frac{\\Delta_i}{\\sigma_i} \\right )^2$$"
   ]
  },
  {
   "cell_type": "markdown",
   "metadata": {
    "deletable": true,
    "editable": true
   },
   "source": [
    "### general linear least squares"
   ]
  },
  {
   "cell_type": "markdown",
   "metadata": {
    "deletable": true,
    "editable": true
   },
   "source": [
    "First we'll make some experimental data (a quadratic with random fashion).  We use the randn() function to provide Gaussian normalized errors."
   ]
  },
  {
   "cell_type": "code",
   "execution_count": 35,
   "metadata": {
    "collapsed": false,
    "deletable": true,
    "editable": true
   },
   "outputs": [
    {
     "name": "stderr",
     "output_type": "stream",
     "text": [
      "/home/zingale/.local/lib/python3.5/site-packages/matplotlib/axes/_axes.py:2818: MatplotlibDeprecationWarning: Use of None object as fmt keyword argument to suppress plotting of data values is deprecated since 1.4; use the string \"none\" instead.\n",
      "  warnings.warn(msg, mplDeprecation, stacklevel=1)\n"
     ]
    },
    {
     "data": {
      "text/plain": [
       "<Container object of 3 artists>"
      ]
     },
     "execution_count": 35,
     "metadata": {},
     "output_type": "execute_result"
    },
    {
     "data": {
      "image/png": "[encoded data removed]",
      "text/plain": [
       "<matplotlib.figure.Figure at 0x7f0605293908>"
      ]
     },
     "metadata": {},
     "output_type": "display_data"
    }
   ],
   "source": [
    "def y_experiment2(a1, a2, a3, sigma, x):\n",
    "    \"\"\" return the experimental data in a quadratic + random fashion,                              \n",
    "        with a1, a2, a3 the coefficients of the quadratic and sigma is                             \n",
    "        the error.  This will be poorly matched to a linear fit for                                \n",
    "        a3 != 0 \"\"\"\n",
    "\n",
    "    N = len(x)\n",
    "\n",
    "    # randn gives samples from the \"standard normal\" distribution                                  \n",
    "    r = np.random.randn(N)\n",
    "\n",
    "    y = a1 + a2*x + a3*x*x + sigma*r\n",
    "\n",
    "    return y\n",
    "\n",
    "N = 40\n",
    "sigma = 5.0*np.ones(N)\n",
    "\n",
    "x = np.linspace(0, 100.0, N)\n",
    "y = y_experiment2(2.0, 1.50, -0.02, sigma, x)\n",
    "\n",
    "plt.scatter(x,y)\n",
    "plt.errorbar(x, y, yerr=sigma, fmt=None)"
   ]
  },
  {
   "cell_type": "code",
   "execution_count": 36,
   "metadata": {
    "collapsed": false,
    "deletable": true,
    "editable": true
   },
   "outputs": [
    {
     "name": "stdout",
     "output_type": "stream",
     "text": [
      "[ 1.86799143  1.57138692 -0.02071494]\n"
     ]
    },
    {
     "name": "stderr",
     "output_type": "stream",
     "text": [
      "/home/zingale/.local/lib/python3.5/site-packages/matplotlib/axes/_axes.py:2818: MatplotlibDeprecationWarning: Use of None object as fmt keyword argument to suppress plotting of data values is deprecated since 1.4; use the string \"none\" instead.\n",
      "  warnings.warn(msg, mplDeprecation, stacklevel=1)\n"
     ]
    },
    {
     "data": {
      "text/plain": [
       "<Container object of 3 artists>"
      ]
     },
     "execution_count": 36,
     "metadata": {},
     "output_type": "execute_result"
    },
    {
     "data": {
      "image/png": "[encoded data removed]",
      "text/plain": [
       "<matplotlib.figure.Figure at 0x7f06051ed940>"
      ]
     },
     "metadata": {},
     "output_type": "display_data"
    }
   ],
   "source": [
    "def resid(avec, x, y, sigma):\n",
    "    \"\"\" the residual function -- this is what will be minimized by the\n",
    "        scipy.optimize.leastsq() routine.  avec is the parameters we\n",
    "        are optimizing -- they are packed in here, so we unpack to\n",
    "        begin.  (x, y) are the data points \n",
    "\n",
    "        scipy.optimize.leastsq() minimizes:\n",
    "\n",
    "           x = arg min(sum(func(y)**2,axis=0))\n",
    "                    y\n",
    "\n",
    "        so this should just be the distance from a point to the curve,\n",
    "        and it will square it and sum over the points\n",
    "        \"\"\"\n",
    "\n",
    "    a0, a1, a2 = avec\n",
    "    \n",
    "    return (y - (a0 + a1*x + a2*x**2))/sigma\n",
    "\n",
    "\n",
    "# initial guesses\n",
    "a0, a1, a2 = 1, 1, 1\n",
    "\n",
    "afit, flag = optimize.leastsq(resid, [a0, a1, a2], args=(x, y, sigma))\n",
    "\n",
    "print(afit)\n",
    "\n",
    "plt.plot(x, afit[0] + afit[1]*x + afit[2]*x*x )\n",
    "plt.scatter(x,y)\n",
    "plt.errorbar(x, y, yerr=sigma, fmt=None)"
   ]
  },
  {
   "cell_type": "markdown",
   "metadata": {
    "deletable": true,
    "editable": true
   },
   "source": [
    "$\\chi^2$"
   ]
  },
  {
   "cell_type": "code",
   "execution_count": 37,
   "metadata": {
    "collapsed": false,
    "deletable": true,
    "editable": true
   },
   "outputs": [
    {
     "name": "stdout",
     "output_type": "stream",
     "text": [
      "0.697696729122\n"
     ]
    }
   ],
   "source": [
    "chisq = sum(np.power(resid(afit, x, y, sigma),2))\n",
    "normalization = len(x)-len(afit)\n",
    "print(chisq/normalization)"
   ]
  },
  {
   "cell_type": "markdown",
   "metadata": {
    "deletable": true,
    "editable": true
   },
   "source": [
    "### a nonlinear example"
   ]
  },
  {
   "cell_type": "markdown",
   "metadata": {
    "deletable": true,
    "editable": true
   },
   "source": [
    "our experiemental data -- an exponential"
   ]
  },
  {
   "cell_type": "code",
   "execution_count": 38,
   "metadata": {
    "collapsed": false,
    "deletable": true,
    "editable": true
   },
   "outputs": [
    {
     "name": "stderr",
     "output_type": "stream",
     "text": [
      "/home/zingale/.local/lib/python3.5/site-packages/matplotlib/axes/_axes.py:2818: MatplotlibDeprecationWarning: Use of None object as fmt keyword argument to suppress plotting of data values is deprecated since 1.4; use the string \"none\" instead.\n",
      "  warnings.warn(msg, mplDeprecation, stacklevel=1)\n"
     ]
    },
    {
     "data": {
      "text/plain": [
       "<Container object of 3 artists>"
      ]
     },
     "execution_count": 38,
     "metadata": {},
     "output_type": "execute_result"
    },
    {
     "data": {
      "image/png": "[encoded data removed]",
      "text/plain": [
       "<matplotlib.figure.Figure at 0x7f0605215908>"
      ]
     },
     "metadata": {},
     "output_type": "display_data"
    }
   ],
   "source": [
    "a0 = 2.5\n",
    "a1 = 2./3.\n",
    "sigma = 5.0\n",
    "\n",
    "a0_orig, a1_orig = a0, a1\n",
    "\n",
    "x = np.linspace(0.0, 4.0, 25)\n",
    "y = a0*np.exp(a1*x) + sigma*np.random.randn(len(x))\n",
    "\n",
    "plt.scatter(x,y)\n",
    "plt.errorbar(x, y, yerr=sigma, fmt=None, label=\"_nolegend_\")"
   ]
  },
  {
   "cell_type": "markdown",
   "metadata": {
    "deletable": true,
    "editable": true
   },
   "source": [
    "our function to minimize"
   ]
  },
  {
   "cell_type": "code",
   "execution_count": 39,
   "metadata": {
    "collapsed": false,
    "deletable": true,
    "editable": true
   },
   "outputs": [],
   "source": [
    "def resid(avec, x, y):\n",
    "    \"\"\" the residual function -- this is what will be minimized by the                             \n",
    "        scipy.optimize.leastsq() routine.  avec is the parameters we                               \n",
    "        are optimizing -- they are packed in here, so we unpack to                                 \n",
    "        begin.  (x, y) are the data points                                                         \n",
    "                                                                                                   \n",
    "        scipy.optimize.leastsq() minimizes:                                                        \n",
    "                                                                                                   \n",
    "           x = arg min(sum(func(y)**2,axis=0))                                                     \n",
    "                    y                                                                              \n",
    "                                                                                                   \n",
    "        so this should just be the distance from a point to the curve,                             \n",
    "        and it will square it and sum over the points                                              \n",
    "        \"\"\"\n",
    "\n",
    "    a0, a1 = avec\n",
    "\n",
    "    # note: if we wanted to deal with error bars, we would weight each                             \n",
    "    # residual accordingly                                                                         \n",
    "    return y - a0*np.exp(a1*x)"
   ]
  },
  {
   "cell_type": "code",
   "execution_count": 40,
   "metadata": {
    "collapsed": false,
    "deletable": true,
    "editable": true
   },
   "outputs": [
    {
     "name": "stdout",
     "output_type": "stream",
     "text": [
      "1\n",
      "[ 2.32926711  0.67300632]\n"
     ]
    }
   ],
   "source": [
    "a0, a1 = 1, 1\n",
    "afit, flag = optimize.leastsq(resid, [a0, a1], args=(x, y))\n",
    "\n",
    "print(flag)\n",
    "print(afit)"
   ]
  },
  {
   "cell_type": "code",
   "execution_count": 41,
   "metadata": {
    "collapsed": false,
    "deletable": true,
    "editable": true
   },
   "outputs": [
    {
     "name": "stderr",
     "output_type": "stream",
     "text": [
      "/home/zingale/.local/lib/python3.5/site-packages/matplotlib/axes/_axes.py:2818: MatplotlibDeprecationWarning: Use of None object as fmt keyword argument to suppress plotting of data values is deprecated since 1.4; use the string \"none\" instead.\n",
      "  warnings.warn(msg, mplDeprecation, stacklevel=1)\n"
     ]
    },
    {
     "data": {
      "text/plain": [
       "<Container object of 3 artists>"
      ]
     },
     "execution_count": 41,
     "metadata": {},
     "output_type": "execute_result"
    },
    {
     "data": {
      "image/png": "[encoded data removed]",
      "text/plain": [
       "<matplotlib.figure.Figure at 0x7f0630421080>"
      ]
     },
     "metadata": {},
     "output_type": "display_data"
    }
   ],
   "source": [
    "plt.plot(x, afit[0]*np.exp(afit[1]*x),\n",
    "           label=r\"$a_0 = $ %f; $a_1 = $ %f\" % (afit[0], afit[1]))\n",
    "plt.plot(x, a0_orig*np.exp(a1_orig*x), \":\", label=\"original function\")\n",
    "plt.legend(numpoints=1, frameon=False)\n",
    "plt.scatter(x,y, c=\"k\")\n",
    "plt.errorbar(x, y, yerr=sigma, fmt=None, label=\"_nolegend_\")"
   ]
  },
  {
   "cell_type": "markdown",
   "metadata": {
    "deletable": true,
    "editable": true
   },
   "source": [
    "# FFTs"
   ]
  },
  {
   "cell_type": "markdown",
   "metadata": {
    "deletable": true,
    "editable": true
   },
   "source": [
    "Fourier transforms convert a physical-space (or time series) representation of a function into frequency space.  This provides an equivalent representation of the data with a new view.\n",
    "\n",
    "The FFT and its inverse in NumPy use:\n",
    "$$F_k = \\sum_{n=0}^{N-1} f_n e^{-2\\pi i nk/N}$$\n",
    "\n",
    "$$f_n = \\frac{1}{N} \\sum_{k=0}^{N-1} F_k \n",
    "   e^{2\\pi i n k/N}$$\n",
    "   \n",
    "\n",
    "Both NumPy and SciPy have FFT routines that are similar.  However, the NumPy version returns the data in a more convenient form.\n",
    "\n",
    "It's always best to start with something you understand -- let's do a simple sine wave.  Since our function is real, we can use the rfft routines in NumPy -- the understand that we are working with real data and they don't return the negative frequency components.\n",
    "\n",
    "One important caveat -- FFTs assume that you are periodic.  If you include both endpoints of the domain in the points that comprise your sample then you will not match this assumption.  Here we use endpoint=False with linspace()"
   ]
  },
  {
   "cell_type": "code",
   "execution_count": 42,
   "metadata": {
    "collapsed": false,
    "deletable": true,
    "editable": true
   },
   "outputs": [],
   "source": [
    "def single_freq_sine(npts):\n",
    "\n",
    "    # a pure sine with no phase shift will result in pure imaginary                                         \n",
    "    # signal                                                                                                \n",
    "    f_0 = 0.2\n",
    "\n",
    "    xmax = 10.0/f_0\n",
    "    \n",
    "    xx = np.linspace(0.0, xmax, npts, endpoint=False)\n",
    "\n",
    "    f = np.sin(2.0*np.pi*f_0*xx)\n",
    "\n",
    "    return xx, f"
   ]
  },
  {
   "cell_type": "markdown",
   "metadata": {
    "deletable": true,
    "editable": true
   },
   "source": [
    "To make our life easier, we'll define a function that plots all the stages of the FFT process"
   ]
  },
  {
   "cell_type": "code",
   "execution_count": 43,
   "metadata": {
    "collapsed": false,
    "deletable": true,
    "editable": true
   },
   "outputs": [],
   "source": [
    "def plot_FFT(xx, f):\n",
    "\n",
    "    npts = len(xx)\n",
    "\n",
    "    # Forward transform: f(x) -> F(k)                                                                       \n",
    "    fk = np.fft.rfft(f)\n",
    "\n",
    "    # Normalization -- the '2' here comes from the fact that we are                                         \n",
    "    # neglecting the negative portion of the frequency space, since                                         \n",
    "    # the FFT of a real function contains redundant information, so                                         \n",
    "    # we are only dealing with 1/2 of the frequency space.                                                  \n",
    "    #                                                                                                       \n",
    "    # technically, we should only scale the 0 bin by N, since k=0 is                                        \n",
    "    # not duplicated -- we won't worry about that for these plots                                           \n",
    "    norm = 2.0/npts\n",
    "\n",
    "    fk = fk*norm\n",
    "\n",
    "    fk_r = fk.real\n",
    "    fk_i = fk.imag\n",
    "\n",
    "    # the fftfreq returns the postive and negative (and 0) frequencies                                      \n",
    "    # the newer versions of numpy (>=1.8) have an rfftfreq() function                                       \n",
    "    # that really does what we want -- we'll use that here.                                                 \n",
    "    k = np.fft.rfftfreq(npts)\n",
    "\n",
    "    # to make these dimensional, we need to divide by dx.  Note that                                        \n",
    "    # max(xx) is not the true length, since we didn't have a point                                          \n",
    "    # at the endpoint of the domain.                                                                        \n",
    "    kfreq = k*npts/(max(xx) + xx[1])\n",
    "\n",
    "    # Inverse transform: F(k) -> f(x) -- without the normalization                                          \n",
    "    fkinv = np.fft.irfft(fk/norm)\n",
    "\n",
    "    # plots\n",
    "    plt.subplot(411)\n",
    "\n",
    "    plt.plot(xx, f)\n",
    "    plt.xlabel(\"x\")\n",
    "    plt.ylabel(\"f(x)\")\n",
    "\n",
    "    plt.subplot(412)\n",
    "\n",
    "    plt.plot(kfreq, fk_r, label=r\"Re($\\mathcal{F}$)\")\n",
    "    plt.plot(kfreq, fk_i, ls=\":\", label=r\"Im($\\mathcal{F}$)\")\n",
    "    plt.xlabel(r\"$\\nu_k$\")\n",
    "    plt.ylabel(\"F(k)\")\n",
    "\n",
    "    plt.legend(fontsize=\"small\", frameon=False)\n",
    "\n",
    "    plt.subplot(413)\n",
    "\n",
    "    plt.plot(kfreq, np.abs(fk))\n",
    "    plt.xlabel(r\"$\\nu_k$\")\n",
    "    plt.ylabel(r\"|F(k)|\")\n",
    "\n",
    "    plt.subplot(414)\n",
    "\n",
    "    plt.plot(xx, fkinv.real)\n",
    "    plt.xlabel(r\"$\\nu_k$\")\n",
    "    plt.ylabel(r\"inverse F(k)\")\n",
    "\n",
    "    f = plt.gcf()\n",
    "    \n",
    "    f.set_size_inches(10,8)\n",
    "    plt.tight_layout()\n"
   ]
  },
  {
   "cell_type": "code",
   "execution_count": 44,
   "metadata": {
    "collapsed": false,
    "deletable": true,
    "editable": true
   },
   "outputs": [
    {
     "data": {
      "image/png": "[encoded data removed]",
      "text/plain": [
       "<matplotlib.figure.Figure at 0x7f06050dbe48>"
      ]
     },
     "metadata": {},
     "output_type": "display_data"
    }
   ],
   "source": [
    "npts = 128\n",
    "xx, f = single_freq_sine(npts)\n",
    "plot_FFT(xx, f)"
   ]
  },
  {
   "cell_type": "markdown",
   "metadata": {
    "deletable": true,
    "editable": true
   },
   "source": [
    "A cosine is shifted in phase by pi/2"
   ]
  },
  {
   "cell_type": "code",
   "execution_count": 45,
   "metadata": {
    "collapsed": false,
    "deletable": true,
    "editable": true
   },
   "outputs": [],
   "source": [
    "def single_freq_cosine(npts):\n",
    "\n",
    "    # a pure cosine with no phase shift will result in pure real                                            \n",
    "    # signal                                                                                                \n",
    "    f_0 = 0.2\n",
    "\n",
    "    xmax = 10.0/f_0\n",
    "\n",
    "    xx = np.linspace(0.0, xmax, npts, endpoint=False)\n",
    "\n",
    "    f = np.cos(2.0*np.pi*f_0*xx)\n",
    "\n",
    "    return xx, f"
   ]
  },
  {
   "cell_type": "code",
   "execution_count": 46,
   "metadata": {
    "collapsed": false,
    "deletable": true,
    "editable": true
   },
   "outputs": [
    {
     "data": {
      "image/png": "[encoded data removed]",
      "text/plain": [
       "<matplotlib.figure.Figure at 0x7f0604d5efd0>"
      ]
     },
     "metadata": {},
     "output_type": "display_data"
    }
   ],
   "source": [
    "xx, f = single_freq_cosine(npts)\n",
    "plot_FFT(xx, f)"
   ]
  },
  {
   "cell_type": "markdown",
   "metadata": {
    "deletable": true,
    "editable": true
   },
   "source": [
    "Now let's look at a sine with a pi/4 phase shift"
   ]
  },
  {
   "cell_type": "code",
   "execution_count": 47,
   "metadata": {
    "collapsed": false,
    "deletable": true,
    "editable": true
   },
   "outputs": [],
   "source": [
    "def single_freq_sine_plus_shift(npts):\n",
    "\n",
    "    # a pure sine with no phase shift will result in pure imaginary                                         \n",
    "    # signal                                                                                                \n",
    "    f_0 = 0.2\n",
    "\n",
    "    xmax = 10.0/f_0\n",
    "\n",
    "    xx = np.linspace(0.0, xmax, npts, endpoint=False)\n",
    "\n",
    "    f = np.sin(2.0*np.pi*f_0*xx + np.pi/4)\n",
    "\n",
    "    return xx, f"
   ]
  },
  {
   "cell_type": "code",
   "execution_count": 48,
   "metadata": {
    "collapsed": false,
    "deletable": true,
    "editable": true
   },
   "outputs": [
    {
     "data": {
      "image/png": "[encoded data removed]",
      "text/plain": [
       "<matplotlib.figure.Figure at 0x7f0604f574a8>"
      ]
     },
     "metadata": {},
     "output_type": "display_data"
    }
   ],
   "source": [
    "xx, f = single_freq_sine_plus_shift(npts)\n",
    "plot_FFT(xx, f)"
   ]
  },
  {
   "cell_type": "markdown",
   "metadata": {
    "deletable": true,
    "editable": true
   },
   "source": [
    "### A frequency filter"
   ]
  },
  {
   "cell_type": "markdown",
   "metadata": {
    "deletable": true,
    "editable": true
   },
   "source": [
    "we'll setup a simple two-frequency sine wave and filter a component"
   ]
  },
  {
   "cell_type": "code",
   "execution_count": 49,
   "metadata": {
    "collapsed": false,
    "deletable": true,
    "editable": true
   },
   "outputs": [],
   "source": [
    "def two_freq_sine(npts):\n",
    "\n",
    "    # a pure sine with no phase shift will result in pure imaginary             \n",
    "    # signal                                                                    \n",
    "    f_0 = 0.2\n",
    "    f_1 = 0.5\n",
    "\n",
    "    xmax = 10.0/f_0\n",
    "\n",
    "    # we call with endpoint=False -- if we include the endpoint, then for       \n",
    "    # a periodic function, the first and last point are identical -- this       \n",
    "    # shows up as a signal in the FFT.                                          \n",
    "    xx = np.linspace(0.0, xmax, npts, endpoint=False)\n",
    "\n",
    "    f = 0.5*(np.sin(2.0*np.pi*f_0*xx) + np.sin(2.0*np.pi*f_1*xx))\n",
    "\n",
    "    return xx, f"
   ]
  },
  {
   "cell_type": "code",
   "execution_count": 50,
   "metadata": {
    "collapsed": false,
    "deletable": true,
    "editable": true
   },
   "outputs": [
    {
     "data": {
      "text/plain": [
       "[<matplotlib.lines.Line2D at 0x7f0604e97208>]"
      ]
     },
     "execution_count": 50,
     "metadata": {},
     "output_type": "execute_result"
    },
    {
     "data": {
      "image/png": "[encoded data removed]",
      "text/plain": [
       "<matplotlib.figure.Figure at 0x7f060505edd8>"
      ]
     },
     "metadata": {},
     "output_type": "display_data"
    }
   ],
   "source": [
    "npts = 256\n",
    "\n",
    "xx, f = two_freq_sine(npts)\n",
    "\n",
    "plt.plot(xx, f)"
   ]
  },
  {
   "cell_type": "markdown",
   "metadata": {
    "deletable": true,
    "editable": true
   },
   "source": [
    "we'll take the transform: f(x) -> F(k)"
   ]
  },
  {
   "cell_type": "code",
   "execution_count": 51,
   "metadata": {
    "collapsed": false,
    "deletable": true,
    "editable": true
   },
   "outputs": [
    {
     "data": {
      "text/plain": [
       "<matplotlib.legend.Legend at 0x7f0604ec8be0>"
      ]
     },
     "execution_count": 51,
     "metadata": {},
     "output_type": "execute_result"
    },
    {
     "data": {
      "image/png": "[encoded data removed]",
      "text/plain": [
       "<matplotlib.figure.Figure at 0x7f0605130668>"
      ]
     },
     "metadata": {},
     "output_type": "display_data"
    }
   ],
   "source": [
    "# normalization factor: the 2 here comes from the fact that we neglect          \n",
    "# the negative portion of frequency space because our input function            \n",
    "# is real                                                                       \n",
    "norm = 2.0/npts\n",
    "fk = norm*np.fft.rfft(f)\n",
    "\n",
    "ofk_r = fk.real.copy()\n",
    "ofk_i = fk.imag.copy()\n",
    "\n",
    "# get the frequencies\n",
    "k = np.fft.rfftfreq(len(xx))\n",
    "\n",
    "# since we don't include the endpoint in xx, to normalize things, we need       \n",
    "# max(xx) + dx to get the true length of the domain\n",
    "#\n",
    "# This makes the frequencies essentially multiples of 1/dx\n",
    "kfreq = k*npts/(max(xx) + xx[1])\n",
    "\n",
    "\n",
    "plt.plot(kfreq, fk.real, label=\"real\")\n",
    "plt.plot(kfreq, fk.imag, \":\", label=\"imaginary\")\n",
    "plt.legend(frameon=False)"
   ]
  },
  {
   "cell_type": "markdown",
   "metadata": {
    "deletable": true,
    "editable": true
   },
   "source": [
    "Filter out the higher frequencies"
   ]
  },
  {
   "cell_type": "code",
   "execution_count": 52,
   "metadata": {
    "collapsed": false,
    "deletable": true,
    "editable": true
   },
   "outputs": [
    {
     "data": {
      "text/plain": [
       "[<matplotlib.lines.Line2D at 0x7f0604e85630>]"
      ]
     },
     "execution_count": 52,
     "metadata": {},
     "output_type": "execute_result"
    },
    {
     "data": {
      "image/png": "[encoded data removed]",
      "text/plain": [
       "<matplotlib.figure.Figure at 0x7f0604e99668>"
      ]
     },
     "metadata": {},
     "output_type": "display_data"
    }
   ],
   "source": [
    "fk[kfreq > 0.4] = 0.0\n",
    "\n",
    "# element 0 of fk is the DC component                                           \n",
    "fk_r = fk.real\n",
    "fk_i = fk.imag\n",
    "\n",
    "\n",
    "# Inverse transform: F(k) -> f(x)                                               \n",
    "fkinv = np.fft.irfft(fk/norm)\n",
    "\n",
    "plt.plot(xx, fkinv.real)"
   ]
  },
  {
   "cell_type": "markdown",
   "metadata": {
    "deletable": true,
    "editable": true
   },
   "source": [
    "# Linear Algebra"
   ]
  },
  {
   "cell_type": "markdown",
   "metadata": {
    "deletable": true,
    "editable": true
   },
   "source": [
    "### general manipulations of matrices"
   ]
  },
  {
   "cell_type": "markdown",
   "metadata": {
    "deletable": true,
    "editable": true
   },
   "source": [
    "you can use regular NumPy arrays or you can use a special matrix class that offers some short cuts"
   ]
  },
  {
   "cell_type": "code",
   "execution_count": 53,
   "metadata": {
    "collapsed": false,
    "deletable": true,
    "editable": true
   },
   "outputs": [],
   "source": [
    "a = np.array([[1.0, 2.0], [3.0, 4.0]])"
   ]
  },
  {
   "cell_type": "code",
   "execution_count": 54,
   "metadata": {
    "collapsed": false,
    "deletable": true,
    "editable": true
   },
   "outputs": [
    {
     "name": "stdout",
     "output_type": "stream",
     "text": [
      "[[ 1.  2.]\n",
      " [ 3.  4.]]\n",
      "[[ 1.  3.]\n",
      " [ 2.  4.]]\n",
      "[[ 1.  3.]\n",
      " [ 2.  4.]]\n"
     ]
    }
   ],
   "source": [
    "print(a)\n",
    "print(a.transpose())\n",
    "print(a.T)"
   ]
  },
  {
   "cell_type": "code",
   "execution_count": 55,
   "metadata": {
    "collapsed": false,
    "deletable": true,
    "editable": true
   },
   "outputs": [
    {
     "name": "stdout",
     "output_type": "stream",
     "text": [
      "[[-2.   1. ]\n",
      " [ 1.5 -0.5]]\n"
     ]
    }
   ],
   "source": [
    "ainv = np.linalg.inv(a)\n",
    "print(ainv)"
   ]
  },
  {
   "cell_type": "code",
   "execution_count": 56,
   "metadata": {
    "collapsed": false,
    "deletable": true,
    "editable": true
   },
   "outputs": [
    {
     "name": "stdout",
     "output_type": "stream",
     "text": [
      "[[  1.00000000e+00   1.11022302e-16]\n",
      " [  0.00000000e+00   1.00000000e+00]]\n"
     ]
    }
   ],
   "source": [
    "print(np.dot(a, ainv))"
   ]
  },
  {
   "cell_type": "markdown",
   "metadata": {
    "deletable": true,
    "editable": true
   },
   "source": [
    "the eye() function will generate an identity matrix (as will the identity())"
   ]
  },
  {
   "cell_type": "code",
   "execution_count": 57,
   "metadata": {
    "collapsed": false,
    "deletable": true,
    "editable": true
   },
   "outputs": [
    {
     "name": "stdout",
     "output_type": "stream",
     "text": [
      "[[ 1.  0.]\n",
      " [ 0.  1.]]\n",
      "[[ 1.  0.]\n",
      " [ 0.  1.]]\n"
     ]
    }
   ],
   "source": [
    "print(np.eye(2))\n",
    "print(np.identity(2))"
   ]
  },
  {
   "cell_type": "markdown",
   "metadata": {
    "deletable": true,
    "editable": true
   },
   "source": [
    "we can solve Ax = b"
   ]
  },
  {
   "cell_type": "code",
   "execution_count": 58,
   "metadata": {
    "collapsed": false,
    "deletable": true,
    "editable": true
   },
   "outputs": [
    {
     "name": "stdout",
     "output_type": "stream",
     "text": [
      "[-3.  4.]\n"
     ]
    }
   ],
   "source": [
    "b = np.array([5, 7])\n",
    "x = np.linalg.solve(a, b)\n",
    "print(x)"
   ]
  },
  {
   "cell_type": "markdown",
   "metadata": {
    "deletable": true,
    "editable": true
   },
   "source": [
    "### The matrix class"
   ]
  },
  {
   "cell_type": "code",
   "execution_count": 59,
   "metadata": {
    "collapsed": false,
    "deletable": true,
    "editable": true
   },
   "outputs": [
    {
     "name": "stdout",
     "output_type": "stream",
     "text": [
      "[[ 1.  2.]\n",
      " [ 3.  4.]]\n",
      "[[ 1.  3.]\n",
      " [ 2.  4.]]\n"
     ]
    }
   ],
   "source": [
    "A = np.matrix('1.0 2.0; 3.0 4.0')\n",
    "print(A)\n",
    "print(A.T)"
   ]
  },
  {
   "cell_type": "code",
   "execution_count": 60,
   "metadata": {
    "collapsed": false,
    "deletable": true,
    "editable": true
   },
   "outputs": [
    {
     "name": "stdout",
     "output_type": "stream",
     "text": [
      "[[ 19.]\n",
      " [ 43.]]\n"
     ]
    }
   ],
   "source": [
    "X = np.matrix('5.0 7.0')\n",
    "Y = X.T\n",
    "\n",
    "print(A*Y)"
   ]
  },
  {
   "cell_type": "code",
   "execution_count": 61,
   "metadata": {
    "collapsed": false,
    "deletable": true,
    "editable": true
   },
   "outputs": [
    {
     "name": "stdout",
     "output_type": "stream",
     "text": [
      "[[-3.]\n",
      " [ 4.]]\n"
     ]
    }
   ],
   "source": [
    "print(A.I*Y)"
   ]
  }
 ],
 "metadata": {
  "kernelspec": {
   "display_name": "Python 3",
   "language": "python",
   "name": "python3"
  },
  "language_info": {
   "codemirror_mode": {
    "name": "ipython",
    "version": 3
   },
   "file_extension": ".py",
   "mimetype": "text/x-python",
   "name": "python",
   "nbconvert_exporter": "python",
   "pygments_lexer": "ipython3",
   "version": "3.5.3"
  }
 },
 "nbformat": 4,
 "nbformat_minor": 0
}
