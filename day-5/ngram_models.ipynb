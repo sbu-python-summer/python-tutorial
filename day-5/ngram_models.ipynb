{
 "cells": [
  {
   "cell_type": "markdown",
   "metadata": {},
   "source": [
    "## $n$-gram extraction and text generation\n",
    "\n",
    "### 1. Bigram extraction\n",
    "\n",
    "Write a function that extracts possible word combinations of the length $2$ from the same file, `shore_leave.txt`. Note that the last word of one sentence, and the first word of the next one are not a good combination.\n",
    "\n",
    "Splitting the lines into the sentences can be easier using `.split()` function: it's argument can be the separator that you are intended to use.\n",
    "\n",
    "   * Define a function `bigramize(filename)` that will take the name of the file as input, and return the list of bigrams.\n",
    "   * Open and the file `shore_leave.txt`\n",
    "   * Create a list that contains possible bigrams of the sentenses of this text. Do not join the words, we will need them for the next exercises."
   ]
  },
  {
   "cell_type": "code",
   "execution_count": null,
   "metadata": {
    "collapsed": true
   },
   "outputs": [],
   "source": [
    "def bigramize(filename):\n",
    "    pass"
   ]
  },
  {
   "cell_type": "markdown",
   "metadata": {},
   "source": [
    "Test your function:"
   ]
  },
  {
   "cell_type": "code",
   "execution_count": null,
   "metadata": {
    "collapsed": true
   },
   "outputs": [],
   "source": [
    "bigrams = bigramize(\"shore_leave.txt\")"
   ]
  },
  {
   "cell_type": "markdown",
   "metadata": {},
   "source": [
    "### 2. N-gram extraction\n",
    "\n",
    "Generalize the function from the previous exercise from bigrams (sequences of the length $2$) to $n$-grams.\n",
    "\n",
    "   * Define a function `ngramize(filename, n)`, where $n$ is the length of the sequence that needs to be extracted."
   ]
  },
  {
   "cell_type": "code",
   "execution_count": null,
   "metadata": {
    "collapsed": true
   },
   "outputs": [],
   "source": [
    "def ngramize(filename, n):\n",
    "    pass"
   ]
  },
  {
   "cell_type": "markdown",
   "metadata": {},
   "source": [
    "Test your function."
   ]
  },
  {
   "cell_type": "code",
   "execution_count": null,
   "metadata": {
    "collapsed": true
   },
   "outputs": [],
   "source": [
    "ngrams = ngramize(\"shore_leave.txt\", 3)"
   ]
  },
  {
   "cell_type": "markdown",
   "metadata": {},
   "source": [
    "### 3. Bigram-based text generation\n",
    "\n",
    "Write a function that will generate text based on the list of bigrams.\n",
    "\n",
    "   * Define a function `generate(bigrams, word=None, maxlen=20)`, where `bigrams` is a list of bigrams, `word` is the first word in the generated sentence, and `maxlen` is the maximum length of the resulting sentence.\n",
    "   * If the initial word is either not provided or is not used non-finally in the text, randomly rewrite that word as any available one.\n",
    "   * Generate sequence of the length `maxlen` when possible. If there are no continuations of some word, just return the current sequence,"
   ]
  },
  {
   "cell_type": "code",
   "execution_count": null,
   "metadata": {
    "collapsed": true
   },
   "outputs": [],
   "source": [
    "def generate(bigrams, word=None, maxlen=20):\n",
    "    pass"
   ]
  },
  {
   "cell_type": "markdown",
   "metadata": {},
   "source": [
    "Test your function."
   ]
  },
  {
   "cell_type": "code",
   "execution_count": null,
   "metadata": {
    "collapsed": true
   },
   "outputs": [],
   "source": [
    "print(generate(bigrams))\n",
    "print(generate(bigrams, \"flowers\"))        # shouldn't rewrite the word\n",
    "print(generate(bigrams, \"sequential\", 10)) # should rewrite the word"
   ]
  },
  {
   "cell_type": "code",
   "execution_count": null,
   "metadata": {
    "collapsed": true
   },
   "outputs": [],
   "source": []
  }
 ],
 "metadata": {
  "kernelspec": {
   "display_name": "Python 3",
   "language": "python",
   "name": "python3"
  },
  "language_info": {
   "codemirror_mode": {
    "name": "ipython",
    "version": 3
   },
   "file_extension": ".py",
   "mimetype": "text/x-python",
   "name": "python",
   "nbconvert_exporter": "python",
   "pygments_lexer": "ipython3",
   "version": "3.4.2"
  }
 },
 "nbformat": 4,
 "nbformat_minor": 2
}
